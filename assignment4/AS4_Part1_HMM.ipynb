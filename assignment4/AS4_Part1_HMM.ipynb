{
 "cells": [
  {
   "cell_type": "markdown",
   "metadata": {
    "id": "lDJIV2EVBuFZ"
   },
   "source": [
    "# M2608.001300 기계학습 기초 및 전기정보 응용<br> Assignment #4 Part 1: Hidden Markov Model (HMM)"
   ]
  },
  {
   "cell_type": "markdown",
   "metadata": {
    "id": "YTaYtPr3Nmjj"
   },
   "source": [
    "Copyright (C) Data Science & AI Laboratory, Seoul National University. This material is for educational uses only. Some contents are based on the material provided by other paper/book authors and may be copyrighted by them. Written by Nohil Park, May 2021."
   ]
  },
  {
   "cell_type": "markdown",
   "metadata": {
    "id": "OVNbco0DV1-_"
   },
   "source": [
    "**For understanding of this work, please carefully look at given PPT file.**\n",
    "\n",
    "Now, you're going to leave behind your implementations and instead migrate to one of popular deep learning frameworks, **PyTorch**. <br>\n",
    "In this notebook, you will learn how to train a Hidden Markov Model (HMM) for sequential modeling. <br>\n",
    "You need to follow the instructions to **complete 5 TODO sections and explain them if needed.**\n",
    "\n",
    "You will see:\n",
    "- what HMM is and when you might want to use it;\n",
    "- the so-called \"three problems\" of an HMM; and \n",
    "- how to implement HMM in PyTorch.\n",
    "\n",
    "\n",
    "**Note**: certain details are missing or ambiguous on purpose, in order to test your knowledge on the related materials. However, if you really feel that something essential is missing and cannot proceed to the next step, then contact the teaching staff with clear description of your problem.\n",
    "\n",
    "<font color=red>**DO NOT clear the final outputs**</font> so that TAs can grade both your code and results.\n",
    "\n",
    "\n",
    "### Some helpful tutorials and references for assignment #4:\n",
    "- [1] Pytorch official documentation. [[link]](https://pytorch.org/docs/stable/index.html)\n",
    "- [2] Stanford CS231n lectures. [[link]](http://cs231n.stanford.edu/)\n",
    "- [3] https://ratsgo.github.io/machine%20learning/2017/03/18/HMMs/\n",
    "- [4] https://ratsgo.github.io/natural%20language%20processing/2017/03/09/rnnlstm/"
   ]
  },
  {
   "cell_type": "markdown",
   "metadata": {
    "id": "efPPcGy0gP6H"
   },
   "source": [
    "## Problem 1. Implementing Hidden Markov Model\n",
    "\n",
    "A hypothetical scenario\n",
    "------\n",
    "\n",
    "To motivate the use of HMMs, imagine that you have a friend who gets to do a lot of travelling. Every day, this jet-setting friend sends you a selfie from the city they’re in, to make you envious."
   ]
  },
  {
   "cell_type": "markdown",
   "metadata": {
    "id": "Cs3z7pnVib9g"
   },
   "source": [
    "<center>\n",
    "\n",
    "![Diagram of a traveling friend sending selfies](https://github.com/lorenlugosch/pytorch_HMM/blob/master/img/selfies.png?raw=true)\n",
    "</center>\n",
    "\n",
    "\n",
    "\n"
   ]
  },
  {
   "cell_type": "markdown",
   "metadata": {
    "id": "hTPNK3IjirDA"
   },
   "source": [
    "How would you go about guessing which city the friend is in each day, just by looking at the selfies?\n",
    "\n",
    "If the selfie contains a really obvious landmark, like the Eiffel Tower, it will be easy to figure out where the photo was taken. If not, it will be a lot harder to infer the city.\n",
    "\n",
    "But we have a clue to help us: the city the friend is in each day is not totally random. For example, the friend will probably remain in the same city for a few days to sightsee before flying to a new city."
   ]
  },
  {
   "cell_type": "markdown",
   "metadata": {
    "id": "k4g7IG7CBx-Y"
   },
   "source": [
    "## The HMM setup\n",
    "\n",
    "The hypothetical scenario of the friend travelling between cities and sending you selfies can be modeled using an HMM.\n"
   ]
  },
  {
   "cell_type": "markdown",
   "metadata": {
    "id": "NpwgbDTnRzRa"
   },
   "source": [
    "An HMM models a system that is in a particular state at any given time and produces an output that depends on that state. \n",
    "\n",
    "At each timestep or clock tick, the system randomly decides on a new state and jumps into that state. The system then randomly generates an observation. The states are \"hidden\": we can't observe them. (In the cities/selfies analogy, the unknown cities would be the hidden states, and the selfies would be the observations.)\n",
    "\n",
    "Let's denote the sequence of states as $\\mathbf{z} = \\{z_1, z_2, \\dots, z_T \\}$, where each state is one of a finite set of $N$ states, and the sequence of observations as $\\mathbf{x} = \\{x_1, x_2, \\dots, x_T\\}$. The observations could be discrete, like letters, or real-valued, like audio frames."
   ]
  },
  {
   "cell_type": "markdown",
   "metadata": {
    "id": "uV5fAhEQDAcJ"
   },
   "source": [
    "<center>\n",
    "\n",
    "![Diagram of an HMM for three timesteps](https://github.com/lorenlugosch/pytorch_HMM/blob/master/img/hmm.png?raw=true)\n",
    "</center>"
   ]
  },
  {
   "cell_type": "markdown",
   "metadata": {
    "id": "vMPrA6Uv-u-K"
   },
   "source": [
    "An HMM makes two key assumptions:\n",
    "- **Assumption 1:** The state at time $t$ depends *only* on the state at the previous time $t-1$. \n",
    "- **Assumption 2:** The output at time $t$ depends *only* on the state at time $t$.\n",
    "\n",
    "These two assumptions make it possible to efficiently compute certain quantities that we may be interested in."
   ]
  },
  {
   "cell_type": "markdown",
   "metadata": {
    "id": "mRNhSK7LgEIS"
   },
   "source": [
    "## Components of an HMM\n",
    "An HMM has three sets of trainable parameters.\n",
    "  \n"
   ]
  },
  {
   "cell_type": "markdown",
   "metadata": {
    "id": "7Pu3zm77vXwp"
   },
   "source": [
    "- The **transition model** is a square matrix $A$, where $A_{s, s'}$ represents $p(z_t = s|z_{t-1} = s')$, the probability of jumping from state $s'$ to state $s$. \n",
    "\n",
    "- The **emission model** $b_s(x_t)$ tells us $p(x_t|z_t = s)$, the probability of generating $x_t$ when the system is in state $s$. For discrete observations, which we will use in this notebook, the emission model is just a lookup table, with one row for each state, and one column for each observation. For real-valued observations, it is common to use a Gaussian mixture model or neural network to implement the emission model. \n",
    "\n",
    "- The **state priors** tell us $p(z_1 = s)$, the probability of starting in state $s$. We use $\\pi$ to denote the vector of state priors, so $\\pi_s$ is the state prior for state $s$.\n",
    "\n",
    "Let's program an HMM class in PyTorch."
   ]
  },
  {
   "cell_type": "code",
   "execution_count": 1,
   "metadata": {
    "id": "aZbW6Pj0og7K"
   },
   "outputs": [],
   "source": [
    "import torch\n",
    "import numpy as np\n",
    "\n",
    "class HMM(torch.nn.Module):\n",
    "  \"\"\"\n",
    "  Hidden Markov Model with discrete observations.\n",
    "  \"\"\"\n",
    "  def __init__(self, M, N):\n",
    "    super(HMM, self).__init__()\n",
    "    self.M = M # number of possible observations\n",
    "    self.N = N # number of states\n",
    "\n",
    "    # A\n",
    "    self.transition_model = TransitionModel(self.N)\n",
    "\n",
    "    # b(x_t)\n",
    "    self.emission_model = EmissionModel(self.N,self.M)\n",
    "\n",
    "    # pi\n",
    "    self.unnormalized_state_priors = torch.nn.Parameter(torch.randn(self.N))\n",
    "\n",
    "    # use the GPU\n",
    "    self.is_cuda = torch.cuda.is_available()\n",
    "    if self.is_cuda: self.cuda()\n",
    "\n",
    "class TransitionModel(torch.nn.Module):\n",
    "  def __init__(self, N):\n",
    "    super(TransitionModel, self).__init__()\n",
    "    self.N = N\n",
    "    self.unnormalized_transition_matrix = torch.nn.Parameter(torch.randn(N,N))\n",
    "\n",
    "class EmissionModel(torch.nn.Module):\n",
    "  def __init__(self, N, M):\n",
    "    super(EmissionModel, self).__init__()\n",
    "    self.N = N\n",
    "    self.M = M\n",
    "    self.unnormalized_emission_matrix = torch.nn.Parameter(torch.randn(N,M))"
   ]
  },
  {
   "cell_type": "markdown",
   "metadata": {
    "id": "eom3ueYtpXGo"
   },
   "source": [
    "To sample from the HMM, we start by picking a random initial state from the state prior distribution.\n",
    "\n",
    "Then, we sample an output from the emission distribution, sample a transition from the transition distribution, and repeat.\n",
    "\n",
    "(Notice that we pass the unnormalized model parameters through a softmax function to make them into probabilities.)\n"
   ]
  },
  {
   "cell_type": "code",
   "execution_count": 2,
   "metadata": {
    "id": "BpgkwNyVwmyM"
   },
   "outputs": [],
   "source": [
    "def sample(self, T=10):\n",
    "  state_priors = torch.nn.functional.softmax(self.unnormalized_state_priors, dim=0)\n",
    "  transition_matrix = torch.nn.functional.softmax(self.transition_model.unnormalized_transition_matrix, dim=0)\n",
    "  emission_matrix = torch.nn.functional.softmax(self.emission_model.unnormalized_emission_matrix, dim=1)\n",
    "\n",
    "  # sample initial state\n",
    "  z_t = torch.distributions.categorical.Categorical(state_priors).sample().item()\n",
    "  z = []; x = []\n",
    "  z.append(z_t)\n",
    "  for t in range(0,T):\n",
    "    # sample emission\n",
    "    x_t = torch.distributions.categorical.Categorical(emission_matrix[z_t]).sample().item()\n",
    "    x.append(x_t)\n",
    "\n",
    "    # sample transition\n",
    "    z_t = torch.distributions.categorical.Categorical(transition_matrix[:,z_t]).sample().item()\n",
    "    if t < T-1: z.append(z_t)\n",
    "\n",
    "  return x, z\n",
    "\n",
    "# Add the sampling method to our HMM class\n",
    "HMM.sample = sample"
   ]
  },
  {
   "cell_type": "markdown",
   "metadata": {
    "id": "ohsdYScawkRG"
   },
   "source": [
    "Let's try hard-coding an HMM for generating fake words. (We'll also add some helper functions for encoding and decoding strings.)\n",
    "\n",
    "We will assume that the system has one state for generating vowels and one state for generating consonants, and the transition matrix has 0s on the diagonal---in other words, the system cannot stay in the vowel state or the consonant state for more than one timestep; it has to switch.\n",
    "\n",
    "Since we pass the transition matrix through a softmax, to get 0s we set the unnormalized parameter values to $-\\infty$."
   ]
  },
  {
   "cell_type": "code",
   "execution_count": 3,
   "metadata": {
    "id": "eyR7yv_3sBG3"
   },
   "outputs": [
    {
     "name": "stdout",
     "output_type": "stream",
     "text": [
      "('State priors:', tensor([0.6225, 0.3775], device='cuda:0'))\n",
      "('Emission matrix:', tensor([[0.0000, 0.0726, 0.2196, 0.0365, 0.0000, 0.0117, 0.0719, 0.0102, 0.0000,\n",
      "         0.0114, 0.0191, 0.1583, 0.0042, 0.0475, 0.0000, 0.0181, 0.0636, 0.0168,\n",
      "         0.0627, 0.0282, 0.0000, 0.0432, 0.0318, 0.0290, 0.0267, 0.0170],\n",
      "        [0.2740, 0.0000, 0.0000, 0.0000, 0.3253, 0.0000, 0.0000, 0.0000, 0.1365,\n",
      "         0.0000, 0.0000, 0.0000, 0.0000, 0.0000, 0.2475, 0.0000, 0.0000, 0.0000,\n",
      "         0.0000, 0.0000, 0.0166, 0.0000, 0.0000, 0.0000, 0.0000, 0.0000]],\n",
      "       device='cuda:0'))\n",
      "('Transition matrix:', tensor([[0., 1.],\n",
      "        [1., 0.]], device='cuda:0'))\n"
     ]
    }
   ],
   "source": [
    "import string\n",
    "alphabet = string.ascii_lowercase\n",
    "\n",
    "def encode(s):\n",
    "  \"\"\"\n",
    "  Convert a string into a list of integers\n",
    "  \"\"\"\n",
    "  x = [alphabet.index(ss) for ss in s]\n",
    "  return x\n",
    "\n",
    "def decode(x):\n",
    "  \"\"\"\n",
    "  Convert list of ints to string\n",
    "  \"\"\"\n",
    "  s = \"\".join([alphabet[xx] for xx in x])\n",
    "  return s\n",
    "\n",
    "# Initialize the model\n",
    "model = HMM(M=len(alphabet), N=2) \n",
    "\n",
    "# Hard-wiring the parameters!\n",
    "# Let state 0 = consonant, state 1 = vowel\n",
    "for p in model.parameters():\n",
    "    p.requires_grad = False # needed to do lines below\n",
    "model.unnormalized_state_priors[0] = 0.    # Let's start with a consonant more frequently\n",
    "model.unnormalized_state_priors[1] = -0.5\n",
    "print(\"State priors:\", torch.nn.functional.softmax(model.unnormalized_state_priors, dim=0))\n",
    "\n",
    "# In state 0, only allow consonants; in state 1, only allow vowels\n",
    "vowel_indices = torch.tensor([alphabet.index(letter) for letter in \"aeiou\"])\n",
    "consonant_indices = torch.tensor([alphabet.index(letter) for letter in \"bcdfghjklmnpqrstvwxyz\"])\n",
    "model.emission_model.unnormalized_emission_matrix[0, vowel_indices] = -np.inf\n",
    "model.emission_model.unnormalized_emission_matrix[1, consonant_indices] = -np.inf \n",
    "print(\"Emission matrix:\", torch.nn.functional.softmax(model.emission_model.unnormalized_emission_matrix, dim=1))\n",
    "\n",
    "# Only allow vowel -> consonant and consonant -> vowel\n",
    "model.transition_model.unnormalized_transition_matrix[0,0] = -np.inf  # consonant -> consonant\n",
    "model.transition_model.unnormalized_transition_matrix[0,1] = 0.       # vowel -> consonant\n",
    "model.transition_model.unnormalized_transition_matrix[1,0] = 0.       # consonant -> vowel\n",
    "model.transition_model.unnormalized_transition_matrix[1,1] = -np.inf  # vowel -> vowel\n",
    "print(\"Transition matrix:\", torch.nn.functional.softmax(model.transition_model.unnormalized_transition_matrix, dim=0))\n",
    "\n"
   ]
  },
  {
   "cell_type": "markdown",
   "metadata": {
    "id": "KFaYq8jDttmi"
   },
   "source": [
    "**TODO 1: Try sampling from our hard-coded model.**\n",
    "\n",
    "\n",
    "Sampled outputs should have the form of: <br>\n",
    "```\n",
    "x: adarituhij\n",
    "z: [1, 0, 1, 0, 1, 0, 1, 0, 1, 0]\n",
    "```\n",
    "\n"
   ]
  },
  {
   "cell_type": "code",
   "execution_count": 4,
   "metadata": {
    "id": "8latFMD7ua0X"
   },
   "outputs": [
    {
     "name": "stdout",
     "output_type": "stream",
     "text": [
      "x: abalenabov\n",
      "z: [1, 0, 1, 0, 1, 0, 1, 0, 1, 0]\n",
      "x: tanocerave\n",
      "z: [0, 1, 0, 1, 0, 1, 0, 1, 0, 1]\n",
      "x: ocacegolac\n",
      "z: [1, 0, 1, 0, 1, 0, 1, 0, 1, 0]\n",
      "x: cicilaceli\n",
      "z: [0, 1, 0, 1, 0, 1, 0, 1, 0, 1]\n",
      "x: jaqeloleqa\n",
      "z: [0, 1, 0, 1, 0, 1, 0, 1, 0, 1]\n"
     ]
    }
   ],
   "source": [
    "# Sample at least 3 pairs of (x, z) outputs\n",
    "##############################################################################\n",
    "#                          IMPLEMENT YOUR CODE                               #\n",
    "##############################################################################\n",
    "for i in range(5):\n",
    "    x, z = model.sample()\n",
    "    print(\"x: {}\".format(decode(x)))\n",
    "    print(\"z: {}\".format(z))\n",
    "##############################################################################\n",
    "#                          END OF YOUR CODE                                  #\n",
    "##############################################################################"
   ]
  },
  {
   "cell_type": "markdown",
   "metadata": {
    "id": "hKzlTlfRgZod"
   },
   "source": [
    "## Problem 2. The Three Problems\n",
    "\n",
    "The \"three problems\" that need to be solved before you can effectively use an HMM are:\n",
    "- Problem 1: How do we efficiently compute $p(\\mathbf{x})$?\n",
    "- Problem 2: How do we find the most likely state sequence $\\mathbf{z}$ that could have generated the data? \n",
    "- Problem 3: How do we train the model?\n",
    "\n",
    "In the rest of the notebook, we will see how to solve each problem and implement the solutions in PyTorch."
   ]
  },
  {
   "cell_type": "markdown",
   "metadata": {
    "id": "v_RfIAnmN2RZ"
   },
   "source": [
    "### Problem 2-1. How do we compute $p(\\mathbf{x})$?"
   ]
  },
  {
   "cell_type": "markdown",
   "metadata": {
    "id": "Z3zUUYH0giKV"
   },
   "source": [
    "\n",
    "#### *Why?*\n",
    "Why might we care about computing $p(\\mathbf{x})$? Here's two reasons.\n",
    "* Given two HMMs, $\\theta_1$ and $\\theta_2$, we can compute the likelihood of some data $\\mathbf{x}$ under each model, $p_{\\theta_1}(\\mathbf{x})$ and $p_{\\theta_2}(\\mathbf{x})$, to decide which model is a better fit to the data. \n",
    "\n",
    "  (For example, given an HMM for English speech and an HMM for French speech, we could compute the likelihood given each model, and pick the model with the higher likelihood to infer whether the person is speaking English or French.)\n",
    "* Being able to compute $p(\\mathbf{x})$ gives us a way to train the model, as we will see later.\n",
    "\n",
    "#### *How?*\n",
    "Given that we want $p(\\mathbf{x})$, how do we compute it?\n",
    "\n",
    "We've assumed that the data is generated by visiting some sequence of states $\\mathbf{z}$ and picking an output $x_t$ for each $z_t$ from the emission distribution $p(x_t|z_t)$. So if we knew $\\mathbf{z}$, then the probability of $\\mathbf{x}$ could be computed as follows:\n",
    "\n",
    "$$p(\\mathbf{x}|\\mathbf{z}) = \\prod_{t} p(x_t|z_t) p(z_t|z_{t-1})$$\n",
    "\n",
    "However, we don't know $\\mathbf{z}$; it's hidden. But we do know the probability of any given $\\mathbf{z}$, independent of what we observe. So we could get the probability of $\\mathbf{x}$ by summing over the different possibilities for $\\mathbf{z}$, like this:\n",
    "\n",
    "$$p(\\mathbf{x}) = \\sum_{\\mathbf{z}} p(\\mathbf{x}|\\mathbf{z}) p(\\mathbf{z}) = \\sum_{\\mathbf{z}} p(\\mathbf{z}) \\prod_{t} p(x_t|z_t) p(z_t|z_{t-1})$$\n",
    "\n",
    "The problem is: if you try to take that sum directly, you will need to compute $N^T$ terms. This is impossible to do for anything but very short sequences. For example, let's say the sequence is of length $T=100$ and there are $N=2$ possible states. Then we would need to check $N^T = 2^{100} \\approx 10^{30}$ different possible state sequences.\n",
    "\n",
    "We need a way to compute $p(\\mathbf{x})$ that doesn't require us to explicitly calculate all $N^T$ terms. For this, we use the forward algorithm."
   ]
  },
  {
   "cell_type": "markdown",
   "metadata": {
    "id": "DrH0YdUAhS6J"
   },
   "source": [
    "________\n",
    "\n",
    "<u><b>The Forward Algorithm</b></u>\n",
    "\n",
    "> for $s=1 \\rightarrow N$:\\\n",
    "> &nbsp;&nbsp;&nbsp;&nbsp;&nbsp;&nbsp;$\\alpha_{s,1} := b_s(x_1) \\cdot \\pi_s$ \n",
    "> \n",
    "> for $t = 2 \\rightarrow T$:\\\n",
    "> &nbsp;&nbsp;&nbsp;&nbsp;&nbsp;&nbsp;for $s = 1 \\rightarrow N$:\\\n",
    "> &nbsp;&nbsp;&nbsp;&nbsp;&nbsp;&nbsp;&nbsp;&nbsp;&nbsp;&nbsp;&nbsp;&nbsp;\n",
    "> $\\alpha_{s,t} := b_s(x_t) \\cdot \\underset{s'}{\\sum} A_{s, s'} \\cdot \\alpha_{s',t-1} $\n",
    "> \n",
    "> $p(\\mathbf{x}) := \\underset{s}{\\sum} \\alpha_{s,T}$\\\n",
    "> return $p(\\mathbf{x})$\n",
    "________\n"
   ]
  },
  {
   "cell_type": "markdown",
   "metadata": {
    "id": "bAdpwRiMn8Vn"
   },
   "source": [
    "The forward algorithm is much faster than enumerating all $N^T$ possible state sequences: it requires only $O(N^2T)$ operations to run, since each step is mostly multiplying the vector of forward variables by the transition matrix. (And very often we can reduce that complexity even further, if the transition matrix is sparse.)\n",
    "\n",
    "There is one practical problem with the forward algorithm as presented above: it is prone to underflow due to multiplying a long chain of small numbers, since probabilities are always between 0 and 1. Instead, let's do everything in the log domain. In the log domain, a multiplication becomes a sum, and a sum becomes a ${\\text{logsumexp}}$.\n",
    "\n",
    "Let $x \\in \\mathbb{R}^n$, ${\\text{logsumexp}} (x)$ is defined as:\n",
    "\n",
    "$${\\text{logsumexp}} (x) = \\log (\\sum_{i} \\exp (x_i)).$$\n",
    "\n",
    "Numerically, ${\\text{logsumexp}}$ is similar to ${\\max}$: in fact, it’s sometimes called the “smooth maximum” function. For example:\n",
    "\n",
    "$$\\max ([1, 2, 3]) = 3 $$\n",
    "$${\\text{logsumexp}} ([1, 2, 3]) = 3.4076$$"
   ]
  },
  {
   "cell_type": "markdown",
   "metadata": {
    "id": "FZ8VsLFxA3iT"
   },
   "source": [
    "________\n",
    "\n",
    "<u><b>The Forward Algorithm (Log Domain)</b></u>\n",
    "\n",
    "> for $s=1 \\rightarrow N$:\\\n",
    "> &nbsp;&nbsp;&nbsp;&nbsp;&nbsp;&nbsp;$\\text{log }\\alpha_{s,1} := \\text{log }b_s(x_1) + \\text{log }\\pi_s$ \n",
    "> \n",
    "> for $t = 2 \\rightarrow T$:\\\n",
    "> &nbsp;&nbsp;&nbsp;&nbsp;&nbsp;&nbsp;for $s = 1 \\rightarrow N$:\\\n",
    "> &nbsp;&nbsp;&nbsp;&nbsp;&nbsp;&nbsp;&nbsp;&nbsp;&nbsp;&nbsp;&nbsp;&nbsp;\n",
    "> $\\text{log }\\alpha_{s,t} := \\text{log }b_s(x_t) +  \\underset{s'}{\\text{logsumexp}} \\left( \\text{log }A_{s, s'} + \\text{log }\\alpha_{s',t-1} \\right)$\n",
    "> \n",
    "> $\\text{log }p(\\mathbf{x}) := \\underset{s}{\\text{logsumexp}} \\left( \\text{log }\\alpha_{s,T} \\right)$\\\n",
    "> return $\\text{log }p(\\mathbf{x})$\n",
    "________"
   ]
  },
  {
   "cell_type": "markdown",
   "metadata": {
    "id": "g55ik6ZCEiJU"
   },
   "source": [
    "**TODO 2**: Now that we have a numerically stable version of the forward algorithm, let's implement it in PyTorch. "
   ]
  },
  {
   "cell_type": "code",
   "execution_count": 8,
   "metadata": {
    "id": "3CMdK1EfE1SJ"
   },
   "outputs": [],
   "source": [
    "def HMM_forward(self, x, T):\n",
    "    \"\"\"\n",
    "    x : IntTensor of shape (batch size, T_max)\n",
    "    T : IntTensor of shape (batch size)\n",
    "\n",
    "    Compute log p(x) for each example in the batch.\n",
    "    T = length of each example\n",
    "    \"\"\"\n",
    "    ##############################################################################\n",
    "    #                          IMPLEMENT YOUR CODE                               #\n",
    "    ##############################################################################\n",
    "    x = x.cuda()\n",
    "    T = T.cuda()\n",
    "\n",
    "    batch_size = x.shape[0]\n",
    "    T_max = x.shape[1]\n",
    "\n",
    "    # DP Table (batch_size, T_max, state #)\n",
    "    log_alpha = torch.zeros(batch_size, T_max, self.N)\n",
    "    log_alpha = log_alpha.cuda()\n",
    "\n",
    "    state_priors = torch.nn.functional.softmax(self.unnormalized_state_priors, dim = 0)\n",
    "    log_alpha[:,0,:] = torch.log(state_priors) + torch.log(self.emission_model.forward(x[:, 0]))\n",
    "\n",
    "    for step in range(1, T_max):\n",
    "        log_b = torch.log(self.emission_model.forward(x[:, step]))\n",
    "        log_alpha[:,step,:] = log_b + self.transition_model.forward(log_alpha[:, step - 1, :])\n",
    "\n",
    "    log_probs_sum = torch.logsumexp(log_alpha, dim=2)\n",
    "    # Each sample would have various length, so, gatehring is required.\n",
    "    # dim1 = t-dimension\n",
    "    log_probs = torch.gather(log_probs_sum, 1, T.view(-1, 1) - 1)\n",
    "\n",
    "    ##############################################################################\n",
    "    #                          END OF YOUR CODE                                  #\n",
    "    ##############################################################################\n",
    "    return log_probs\n",
    "\n",
    "def emission_model_forward(self, x_t):\n",
    "    ##############################################################################\n",
    "    #                          IMPLEMENT YOUR CODE                               #\n",
    "    ##############################################################################\n",
    "    \"\"\"\n",
    "    Input: (batch_size)\n",
    "    out : (batch_size, N)\n",
    "    \"\"\"\n",
    "    emission_matrix = torch.nn.functional.softmax(self.unnormalized_emission_matrix, dim=1)\n",
    "    out = emission_matrix[:, x_t].transpose(0,1)\n",
    "\n",
    "    ##############################################################################\n",
    "    #                          END OF YOUR CODE                                  #\n",
    "    ##############################################################################\n",
    "    return out\n",
    "\n",
    "def transition_model_forward(self, log_alpha):\n",
    "    \"\"\"\n",
    "    log_alpha : Tensor of shape (batch size, N)\n",
    "    Multiply previous timestep's alphas by transition matrix (in log domain)\n",
    "    \"\"\"\n",
    "    ##############################################################################\n",
    "    #                          IMPLEMENT YOUR CODE                               #\n",
    "    ##############################################################################\n",
    "    \"\"\"\n",
    "    Input\n",
    "        log_alpha: (batch_size, N)\n",
    "    Return\n",
    "        out: (N, 1)\n",
    "    \"\"\"\n",
    "    self.transition_matrix = torch.nn.functional.softmax(self.unnormalized_transition_matrix, dim=0)\n",
    "    out = log_domain_matmul(torch.log(self.transition_matrix), log_alpha.transpose(0, 1))\n",
    "    out = out.transpose(0, 1)\n",
    "\n",
    "    ##############################################################################\n",
    "    #                          END OF YOUR CODE                                  #\n",
    "    ##############################################################################\n",
    "    return out\n",
    "\n",
    "def log_domain_matmul(log_A, log_B):\n",
    "\t\"\"\"\n",
    "\tlog_A : m x n\n",
    "\tlog_B : n x p\n",
    "\toutput : m x p matrix\n",
    "\n",
    "\tNormally, a matrix multiplication\n",
    "\tcomputes out_{i,j} = sum_k A_{i,k} x B_{k,j}\n",
    "\n",
    "\tA log domain matrix multiplication\n",
    "\tcomputes out_{i,j} = logsumexp_k log_A_{i,k} + log_B_{k,j}\n",
    "\t\"\"\"\n",
    "\tm = log_A.shape[0]\n",
    "\tn = log_A.shape[1]\n",
    "\tp = log_B.shape[1]\n",
    "\n",
    "\t# log_A_expanded = torch.stack([log_A] * p, dim=2)\n",
    "\t# log_B_expanded = torch.stack([log_B] * m, dim=0)\n",
    "    # fix for PyTorch > 1.5 by egaznep on Github:\n",
    "\tlog_A_expanded = torch.reshape(log_A, (m,n,1))\n",
    "\tlog_B_expanded = torch.reshape(log_B, (1,n,p))\n",
    "\n",
    "\telementwise_sum = log_A_expanded + log_B_expanded\n",
    "\tout = torch.logsumexp(elementwise_sum, dim=1)\n",
    "\n",
    "\treturn out\n",
    "\n",
    "TransitionModel.forward = transition_model_forward\n",
    "EmissionModel.forward = emission_model_forward\n",
    "HMM.forward = HMM_forward"
   ]
  },
  {
   "cell_type": "markdown",
   "metadata": {
    "id": "y-fNnZfqGb1m"
   },
   "source": [
    "Try running the forward algorithm on our vowels/consonants model from before:"
   ]
  },
  {
   "cell_type": "code",
   "execution_count": 9,
   "metadata": {
    "id": "8rMAmf-UGhbw"
   },
   "outputs": [
    {
     "name": "stdout",
     "output_type": "stream",
     "text": [
      "tensor([[-6.8550]], device='cuda:0')\n",
      "tensor([[-6.1863],\n",
      "        [   -inf]], device='cuda:0')\n"
     ]
    }
   ],
   "source": [
    "x = torch.stack( [torch.tensor(encode(\"cat\"))] )\n",
    "T = torch.tensor([3])\n",
    "print(model.forward(x, T))\n",
    "\n",
    "x = torch.stack( [torch.tensor(encode(\"aba\")), torch.tensor(encode(\"abb\"))] )\n",
    "T = torch.tensor([3,3])\n",
    "print(model.forward(x, T))"
   ]
  },
  {
   "cell_type": "markdown",
   "metadata": {
    "id": "95TB2gvNHuLn"
   },
   "source": [
    "When using the vowel <-> consonant HMM from above, notice that the forward algorithm returns $-\\infty$ for $\\mathbf{x} = ``\\text{abb\"}$. That's because our transition matrix says the probability of vowel -> vowel and consonant -> consonant is 0, so the probability of $``\\text{abb\"}$ happening is 0, and thus the log probability is $-\\infty$."
   ]
  },
  {
   "cell_type": "markdown",
   "metadata": {
    "id": "qBCrFobsEM8X"
   },
   "source": [
    "#### *Side note: deriving the forward algorithm*\n",
    "\n",
    "If you're interested in understanding how the forward algorithm actually computes $p(\\mathbf{x})$, read this section; if not, skip to the next part on \"Problem 2\" (finding the most likely state sequence)."
   ]
  },
  {
   "cell_type": "markdown",
   "metadata": {
    "id": "CpHWWKcxhjkx"
   },
   "source": [
    "\n",
    "\n",
    "To derive the forward algorithm, start by deriving the forward variable:\n",
    "\n",
    "$\n",
    "\\begin{align} \n",
    "    \\alpha_{s,t} &= p(x_1, x_2, \\dots, x_t, z_t=s) \\\\\n",
    "     &= p(x_t | x_1, x_2, \\dots, x_{t-1}, z_t = s) \\cdot p(x_1, x_2, \\dots, x_{t-1}, z_t = s)  \\\\ \n",
    "    &= p(x_t | z_t = s) \\cdot p(x_1, x_2, \\dots, x_{t-1}, z_t = s) \\\\\n",
    "    &= p(x_t | z_t = s) \\cdot \\left( \\sum_{s'} p(x_1, x_2, \\dots, x_{t-1}, z_{t-1}=s', z_t = s) \\right)\\\\\n",
    "    &= p(x_t | z_t = s) \\cdot \\left( \\sum_{s'} p(z_t = s | x_1, x_2, \\dots, x_{t-1}, z_{t-1}=s') \\cdot p(x_1, x_2, \\dots, x_{t-1}, z_{t-1}=s') \\right)\\\\\n",
    "    &= \\underbrace{p(x_t | z_t = s)}_{\\text{emission model}} \\cdot \\left( \\sum_{s'} \\underbrace{p(z_t = s | z_{t-1}=s')}_{\\text{transition model}} \\cdot \\underbrace{p(x_1, x_2, \\dots, x_{t-1}, z_{t-1}=s')}_{\\text{forward variable for previous timestep}} \\right)\\\\\n",
    "    &= b_s(x_t) \\cdot \\left( \\sum_{s'} A_{s, s'} \\cdot \\alpha_{s',t-1} \\right)\n",
    "\\end{align}\n",
    "$\n",
    "\n",
    "I'll explain how to get to each line of this equation from the previous line. \n",
    "\n",
    "Line 1 is the definition of the forward variable $\\alpha_{s,t}$.\n",
    "\n",
    "Line 2 is the chain rule ($p(A,B) = p(A|B) \\cdot p(B)$, where $A$ is $x_t$ and $B$ is all the other variables).\n",
    "\n",
    "In Line 3, we apply Assumption 2: the probability of observation $x_t$ depends only on the current state $z_t$.\n",
    "\n",
    "In Line 4, we marginalize over all the possible states in the previous timestep $t-1$.\n",
    "\n",
    "In Line 5, we apply the chain rule again.\n",
    "\n",
    "In Line 6, we apply Assumption 1: the current state depends only on the previous state.\n",
    "\n",
    "In Line 7, we substitute in the emission probability, the transition probability, and the forward variable for the previous timestep, to get the complete recursion."
   ]
  },
  {
   "cell_type": "markdown",
   "metadata": {
    "id": "kh1ovNjWDbIA"
   },
   "source": [
    "The formula above can be used for $t = 2 \\rightarrow T$. At $t=1$, there is no previous state, so instead of the transition matrix $A$, we use the state priors $\\pi$, which tell us the probability of starting in each state. Thus for $t=1$, the forward variables are computed as follows:\n",
    "\n",
    "$$\\begin{align} \n",
    "\\alpha_{s,1} &= p(x_1, z_1=s) \\\\\n",
    "  &= p(x_1 | z_1 = s) \\cdot p(z_1 = s)  \\\\ \n",
    "&= b_s(x_1) \\cdot \\pi_s\n",
    "\\end{align}$$"
   ]
  },
  {
   "cell_type": "markdown",
   "metadata": {
    "id": "RRzSqkRkEWKX"
   },
   "source": [
    "Finally, to compute $p(\\mathbf{x}) = p(x_1, x_2, \\dots, x_T)$, we marginalize over $\\alpha_{s,T}$, the forward variables computed in the last timestep:\n",
    "\n",
    "$$\\begin{align*} \n",
    "p(\\mathbf{x}) &= \\sum_{s} p(x_1, x_2, \\dots, x_T, z_T = s) \\\\ \n",
    "&= \\sum_{s} \\alpha_{s,T}\n",
    "\\end{align*}$$"
   ]
  },
  {
   "cell_type": "markdown",
   "metadata": {
    "id": "qLBU8Iu7I5Tb"
   },
   "source": [
    "You can get from this formulation to the log domain formulation by taking the log of the forward variable, and using these identities:\n",
    "- $\\text{log }(a \\cdot b) = \\text{log }a + \\text{log }b$\n",
    "- $\\text{log }(a + b) = \\text{log }(e^{\\text{log }a} + e^{\\text{log }b}) = \\text{logsumexp}(\\text{log }a, \\text{log }b)$"
   ]
  },
  {
   "cell_type": "markdown",
   "metadata": {
    "id": "bxivzF8hgpiW"
   },
   "source": [
    "### Problem 2-2. How do we compute $\\underset{\\mathbf{z}}{\\text{argmax }} p(\\mathbf{z}|\\mathbf{x})$?"
   ]
  },
  {
   "cell_type": "markdown",
   "metadata": {
    "id": "c1Kv2yyiN7SX"
   },
   "source": [
    "Given an observation sequence $\\mathbf{x}$, we may want to find the most likely sequence of states that could have generated $\\mathbf{x}$. (Given the sequence of selfies, we want to infer what cities the friend visited.) In other words, we want $\\underset{\\mathbf{z}}{\\text{argmax }} p(\\mathbf{z}|\\mathbf{x})$.\n",
    "\n",
    "We can use Bayes' rule to rewrite this expression:\n",
    "$$\\begin{align*} \n",
    "    \\underset{\\mathbf{z}}{\\text{argmax }} p(\\mathbf{z}|\\mathbf{x}) &= \\underset{\\mathbf{z}}{\\text{argmax }} \\frac{p(\\mathbf{x}|\\mathbf{z}) p(\\mathbf{z})}{p(\\mathbf{x})} \\\\ \n",
    "    &= \\underset{\\mathbf{z}}{\\text{argmax }} p(\\mathbf{x}|\\mathbf{z}) p(\\mathbf{z})\n",
    "\\end{align*}$$\n",
    "\n",
    "Hmm! That last expression, $\\underset{\\mathbf{z}}{\\text{argmax }} p(\\mathbf{x}|\\mathbf{z}) p(\\mathbf{z})$, looks suspiciously similar to the intractable expression we encountered before introducing the forward algorithm, $\\underset{\\mathbf{z}}{\\sum} p(\\mathbf{x}|\\mathbf{z}) p(\\mathbf{z})$.\n",
    "\n",
    "And indeed, just as the intractable *sum* over all $\\mathbf{z}$ can be implemented efficiently using the forward algorithm, so too this intractable *argmax* can be implemented efficiently using a similar divide-and-conquer algorithm: the legendary Viterbi algorithm!"
   ]
  },
  {
   "cell_type": "markdown",
   "metadata": {
    "id": "niKZEX5xWeWR"
   },
   "source": [
    "________\n",
    "\n",
    "<u><b>The Viterbi Algorithm</b></u>\n",
    "\n",
    "> for $s=1 \\rightarrow N$:\\\n",
    "> &nbsp;&nbsp;&nbsp;&nbsp;&nbsp;&nbsp;$\\delta_{s,1} := b_s(x_1) \\cdot \\pi_s$\\\n",
    "> &nbsp;&nbsp;&nbsp;&nbsp;&nbsp;&nbsp;$\\psi_{s,1} := 0$\n",
    ">\n",
    "> for $t = 2 \\rightarrow T$:\\\n",
    "> &nbsp;&nbsp;&nbsp;&nbsp;&nbsp;&nbsp;for $s = 1 \\rightarrow N$:\\\n",
    "> &nbsp;&nbsp;&nbsp;&nbsp;&nbsp;&nbsp;&nbsp;&nbsp;&nbsp;&nbsp;&nbsp;&nbsp;$\\delta_{s,t} := b_s(x_t) \\cdot \\left( \\underset{s'}{\\text{max }} A_{s, s'} \\cdot \\delta_{s',t-1} \\right)$\\\n",
    "&nbsp;&nbsp;&nbsp;&nbsp;&nbsp;&nbsp;&nbsp;&nbsp;&nbsp;&nbsp;&nbsp;&nbsp;$\\psi_{s,t} := \\underset{s'}{\\text{argmax }} A_{s, s'} \\cdot \\delta_{s',t-1}$\n",
    "> \n",
    "> $z_T^* := \\underset{s}{\\text{argmax }} \\delta_{s,T}$\\\n",
    "> for $t = T-1 \\rightarrow 1$:\\\n",
    "&nbsp;&nbsp;&nbsp;&nbsp;&nbsp;&nbsp;$z_{t}^* := \\psi_{z_{t+1}^*,t+1}$\n",
    "> \n",
    "> $\\mathbf{z}^* := \\{z_{1}^*, \\dots, z_{T}^* \\}$\\\n",
    "return $\\mathbf{z}^*$\n",
    "________"
   ]
  },
  {
   "cell_type": "markdown",
   "metadata": {
    "id": "UcHVTCucZV6K"
   },
   "source": [
    "The Viterbi algorithm looks somewhat gnarlier than the forward algorithm, but it is essentially the same algorithm, with two tweaks: 1) instead of taking the sum over previous states, we take the max; and 2) we record the argmax of the previous states in a table, and loop back over this table at the end to get $\\mathbf{z}^*$, the most likely state sequence. (And like the forward algorithm, we should run the Viterbi algorithm in the log domain for better numerical stability.) "
   ]
  },
  {
   "cell_type": "markdown",
   "metadata": {
    "id": "NlN7IY_JZ5A-"
   },
   "source": [
    "**TODO 3**: Let's add the Viterbi algorithm to our PyTorch model:"
   ]
  },
  {
   "cell_type": "code",
   "execution_count": 10,
   "metadata": {
    "id": "qeDG8DVmZ-P0"
   },
   "outputs": [],
   "source": [
    "def viterbi(self, x, T):\n",
    "    \"\"\"\n",
    "    x : IntTensor of shape (batch size, T_max)\n",
    "    T : IntTensor of shape (batch size)\n",
    "    Find argmax_z log p(x|z) for each (x) in the batch.\n",
    "    \"\"\"\n",
    "    ##############################################################################\n",
    "    #                          IMPLEMENT YOUR CODE                               #\n",
    "    ##############################################################################\n",
    "    x = x.cuda()\n",
    "    T = T.cuda()\n",
    "\n",
    "    batch_size = x.shape[0]\n",
    "    T_max = x.shape[1]\n",
    "\n",
    "    # To return\n",
    "    z_star = list()\n",
    "\n",
    "    state_priors = torch.nn.functional.softmax(self.unnormalized_state_priors, dim = 0)\n",
    "\n",
    "    # Dynamic Programming Table\n",
    "    log_delta = torch.zeros(batch_size, T_max, self.N)\n",
    "    log_delta = log_delta.cuda()\n",
    "    psi_matrix = torch.zeros(batch_size, T_max, self.N)\n",
    "\n",
    "    # Initial Step\n",
    "    log_delta[:,0,:] = torch.log(state_priors) + torch.log(self.emission_model.forward(x[:, 0]))\n",
    "\n",
    "    # Induction step\n",
    "    for t in range(1, T_max):\n",
    "        # log_delta = (batch_size, N)\n",
    "        log_delta[:, t, :], psi = self.transition_model.maxmul(log_delta[:, t-1, :])\n",
    "        log_delta[:, t, :] = torch.log(self.emission_model.forward(x[:, t])) + log_delta[:, t, :]\n",
    "        psi_matrix[:,t,:] = psi\n",
    "\n",
    "    best_path_scores_sum, best_zs = torch.max(log_delta, dim = 2)\n",
    "    best_path_scores = torch.gather(best_path_scores_sum, 1, T.view(-1,1) - 1)\n",
    "\n",
    "    for batch_idx in range(batch_size):\n",
    "        best_path = list()\n",
    "        final_t = T[batch_idx] - 1\n",
    "        best_z = best_zs[batch_idx][final_t].item()\n",
    "        best_path.append(best_z)\n",
    "\n",
    "        for t in range(final_t, 0, -1):\n",
    "            best_z = psi_matrix[batch_idx][t][best_z].long().item()\n",
    "            best_path.append(best_z)\n",
    "\n",
    "        best_path.reverse()\n",
    "        z_star.append(best_path)   \n",
    "\n",
    "    ##############################################################################\n",
    "    #                          END OF YOUR CODE                                  #\n",
    "    ##############################################################################\n",
    "    return z_star, best_path_scores # return both the best path and its log probability\n",
    "\n",
    "def transition_model_maxmul(self, log_alpha):\n",
    "  log_transition_matrix = torch.nn.functional.log_softmax(self.unnormalized_transition_matrix, dim=0)\n",
    "\n",
    "  out1, out2 = maxmul(log_transition_matrix, log_alpha.transpose(0,1))\n",
    "  return out1.transpose(0,1), out2.transpose(0,1)\n",
    "\n",
    "def maxmul(log_A, log_B):\n",
    "\t\"\"\"\n",
    "\tlog_A : m x n\n",
    "\tlog_B : n x p\n",
    "\toutput : m x p matrix\n",
    "\n",
    "\tSimilar to the log domain matrix multiplication,\n",
    "\tthis computes out_{i,j} = max_k log_A_{i,k} + log_B_{k,j}\n",
    "\t\"\"\"\n",
    "\tm = log_A.shape[0]\n",
    "\tn = log_A.shape[1]\n",
    "\tp = log_B.shape[1]\n",
    "\n",
    "\tlog_A_expanded = torch.stack([log_A] * p, dim=2)\n",
    "\tlog_B_expanded = torch.stack([log_B] * m, dim=0)\n",
    "\n",
    "\telementwise_sum = log_A_expanded + log_B_expanded\n",
    "\tout1,out2 = torch.max(elementwise_sum, dim=1)\n",
    "\n",
    "\treturn out1,out2\n",
    "\n",
    "TransitionModel.maxmul = transition_model_maxmul\n",
    "HMM.viterbi = viterbi"
   ]
  },
  {
   "cell_type": "markdown",
   "metadata": {
    "id": "uTGOaeXbaWie"
   },
   "source": [
    "Try running Viterbi on an input sequence, given the vowel/consonant HMM:"
   ]
  },
  {
   "cell_type": "code",
   "execution_count": 11,
   "metadata": {
    "id": "zeOTbaIMc23d"
   },
   "outputs": [
    {
     "name": "stdout",
     "output_type": "stream",
     "text": [
      "([[1, 0, 1], [1, 0, 0]], tensor([[-6.1863],\n",
      "        [   -inf]], device='cuda:0'))\n"
     ]
    }
   ],
   "source": [
    "x = torch.stack( [torch.tensor(encode(\"aba\")), torch.tensor(encode(\"abb\"))] )\n",
    "T = torch.tensor([3,3])\n",
    "print(model.viterbi(x, T))"
   ]
  },
  {
   "cell_type": "markdown",
   "metadata": {
    "id": "fKr8YlafdzBx"
   },
   "source": [
    "For $\\mathbf{x} = ``\\text{aba\"}$, the Viterbi algorithm returns $\\mathbf{z}^* = \\{1,0,1\\}$. This corresponds to \"vowel, consonant, vowel\" according to the way we defined the states above, which is correct for this input sequence. Yay!\n",
    "\n",
    "For $\\mathbf{x} = ``\\text{abb\"}$, the Viterbi algorithm still returns a $\\mathbf{z}^*$, but we know this is gibberish because \"vowel, consonant, consonant\" is impossible under this HMM, and indeed the log probability of this path is $-\\infty$."
   ]
  },
  {
   "cell_type": "markdown",
   "metadata": {
    "id": "nCWw0_WienO_"
   },
   "source": [
    "### Problem 2-3. Comparison: Forward vs. Viterbi\n",
    "\n",
    "1. **TODO 4**: Compare the \"forward score\" (the log probability of all possible paths, returned by the forward algorithm) with the \"Viterbi score\" (the log probability of the maximum likelihood path, returned by the Viterbi algorithm). You can print out model's outputs. And please explain the result below."
   ]
  },
  {
   "cell_type": "code",
   "execution_count": 12,
   "metadata": {
    "id": "L9fBOHvdeqWC"
   },
   "outputs": [
    {
     "name": "stdout",
     "output_type": "stream",
     "text": [
      "('Forward score: ', tensor([[-7.7118],\n",
      "        [-6.8550],\n",
      "        [-7.0240],\n",
      "        [   -inf]], device='cuda:0'))\n",
      "('VIterbi score: ', tensor([[-7.7118],\n",
      "        [-6.8550],\n",
      "        [-7.0240],\n",
      "        [   -inf]], device='cuda:0'))\n"
     ]
    }
   ],
   "source": [
    "##############################################################################\n",
    "#                          IMPLEMENT YOUR CODE                               #\n",
    "##############################################################################\n",
    "x = torch.stack([torch.tensor(encode(\"dag\")), torch.tensor(encode(\"cat\")), \n",
    "                 torch.tensor(encode(\"bag\")), torch.tensor(encode(\"bba\"))])\n",
    "T = torch.tensor([3, 3, 3, 3])\n",
    "\n",
    "forward_score = model.forward(x, T)\n",
    "viterbi_path, viterbi_score = model.viterbi(x, T)\n",
    "\n",
    "print(\"Forward score: \", forward_score)\n",
    "print(\"VIterbi score: \", viterbi_score)\n",
    "\n",
    "##############################################################################\n",
    "#                          END OF YOUR CODE                                  #\n",
    "##############################################################################"
   ]
  },
  {
   "cell_type": "markdown",
   "metadata": {
    "id": "1MZhZFyNX0go"
   },
   "source": [
    "\n",
    "<h3>2. **Explanation for TODO 4**:<br></h3>\n",
    "\n",
    "As we can see at the example above, the results of the forward score and viterbi score are identical.\n",
    "But this is not in the usual case, because forward algorithm chooses the \"sum-way\" when caculating the next (alpha)log_alpha while viterbi algorithm chooses the \"max-way\" when calculating the next (delta)log_delta. Check-out the equations below for detail\n",
    "\n",
    "<h4> Forward Algorithm </h4>\n",
    "> $\\alpha_{s,t} := b_s(x_t) \\cdot \\underset{s'}{\\sum} A_{s, s'} \\cdot \\alpha_{s',t-1} $\n",
    "\n",
    "<h4> Viterbi Algorithm </h4>\n",
    "> $\\delta_{s,t} := b_s(x_t) \\cdot \\left( \\underset{s'}{\\text{max }} A_{s, s'} \\cdot \\delta_{s',t-1} \\right)$\\\n",
    "\n",
    "Therefore, in most case, two score would not be same. However some specialty in this modeling leads two score into same value\n",
    "It's because the state transition matrix \n",
    "A is <br>0 1<br>1 0<br>\n",
    "Assume that alpha(delta) is [alpha1, alpha2] in previous layer, alpha in next layer would be,\n",
    "<br> <b>(1) [alpha2, alpha1] in forward algorithm</b>\n",
    "<br> <b>(2) [alpha2, alpha1] in viterbi algorithm</b>\n",
    "<br>This is why two scores are exactly same. Since the vowel->consonant transition and consonant->vowel transition probability is zero, it makes the other side max simultaneously.\n",
    "Since the emission_matrix is identical, the emission probability of the observation in given state is identical.\n"
   ]
  },
  {
   "cell_type": "markdown",
   "metadata": {
    "id": "SvFtiWhzgy0V"
   },
   "source": [
    "### Problem 2-4. How do we train the model?\n",
    "\n",
    "\n",
    "\n"
   ]
  },
  {
   "cell_type": "markdown",
   "metadata": {
    "id": "r3JaykRalSBZ"
   },
   "source": [
    "Earlier, we hard-coded an HMM to have certain behavior. What we would like to do instead is have the HMM learn to model the data on its own. And while it is possible to use supervised learning with an HMM (by hard-coding the emission model or the transition model) so that the states have a particular interpretation, the really cool thing about HMMs is that they are naturally unsupervised learners, so they can learn to use their different states to represent different patterns in the data, without the programmer needing to indicate what each state means."
   ]
  },
  {
   "cell_type": "markdown",
   "metadata": {
    "id": "8K471fT4N-PR"
   },
   "source": [
    "Like many machine learning models, an HMM can be trained using maximum likelihood estimation, i.e.:\n",
    "\n",
    "$$\\theta^* = \\underset{\\theta}{\\text{argmin }} -\\sum_{\\mathbf{x}^i}\\text{log }p_{\\theta}(\\mathbf{x}^i)$$\n",
    "\n",
    "where $\\mathbf{x}^1, \\mathbf{x}^2, \\dots$ are training examples. \n",
    "\n",
    "The standard method for doing this is the Expectation-Maximization (EM) algorithm, which for HMMs is also called the \"Baum-Welch\" algorithm. In EM training, we alternate between an \"E-step\", where we estimate the values of the latent variables, and an \"M-step\", where the model parameters are updated given the estimated latent variables. (Think $k$-means, where you guess which cluster each data point belongs to, then reestimate where the clusters are, and repeat.) The EM algorithm has some nice properties: it is guaranteed at each step to decrease the loss function, and the E-step and M-step may have an exact closed form solution, in which case no pesky learning rates are required.\n",
    "\n",
    "But because the HMM forward algorithm is differentiable with respect to all the model parameters, we can also just take advantage of automatic differentiation methods in libraries like PyTorch and try to minimize $-\\text{log }p_{\\theta}(\\mathbf{x})$ directly, by backpropagating through the forward algorithm and running stochastic gradient descent. That means we don't need to write any additional HMM code to implement training: `loss.backward()` is all you need."
   ]
  },
  {
   "cell_type": "markdown",
   "metadata": {
    "id": "aVh0-369qZDC"
   },
   "source": [
    "Here we will implement SGD training for an HMM in PyTorch. First, some helper classes:"
   ]
  },
  {
   "cell_type": "code",
   "execution_count": 13,
   "metadata": {
    "id": "KqiFobGHwdzc"
   },
   "outputs": [],
   "source": [
    "import torch.utils.data\n",
    "from collections import Counter\n",
    "from sklearn.model_selection import train_test_split\n",
    "\n",
    "class TextDataset(torch.utils.data.Dataset):\n",
    "  def __init__(self, lines):\n",
    "    self.lines = lines # list of strings\n",
    "    collate = Collate() # function for generating a minibatch from strings\n",
    "    self.loader = torch.utils.data.DataLoader(self, batch_size=1024, num_workers=1, shuffle=True, collate_fn=collate)\n",
    "\n",
    "  def __len__(self):\n",
    "    return len(self.lines)\n",
    "\n",
    "  def __getitem__(self, idx):\n",
    "    line = self.lines[idx].lstrip(\" \").rstrip(\"\\n\").rstrip(\" \").rstrip(\"\\n\")\n",
    "    return line\n",
    "\n",
    "class Collate:\n",
    "  def __init__(self):\n",
    "    pass\n",
    "\n",
    "  def __call__(self, batch):\n",
    "    \"\"\"\n",
    "    Returns a minibatch of strings, padded to have the same length.\n",
    "    \"\"\"\n",
    "    x = []\n",
    "    batch_size = len(batch)\n",
    "    for index in range(batch_size):\n",
    "      x_ = batch[index]\n",
    "\n",
    "      # convert letters to integers\n",
    "      x.append(encode(x_))\n",
    "\n",
    "    # pad all sequences with 0 to have same length\n",
    "    x_lengths = [len(x_) for x_ in x]\n",
    "    T = max(x_lengths)\n",
    "    for index in range(batch_size):\n",
    "      x[index] += [0] * (T - len(x[index]))\n",
    "      x[index] = torch.tensor(x[index])\n",
    "\n",
    "    # stack into single tensor\n",
    "    x = torch.stack(x)\n",
    "    x_lengths = torch.tensor(x_lengths)\n",
    "    return (x,x_lengths)"
   ]
  },
  {
   "cell_type": "markdown",
   "metadata": {
    "id": "YpDpwnPnAEA9"
   },
   "source": [
    "Let's load some training/testing data. By default, this will use the unix \"words\" file, but you could also use your own text file."
   ]
  },
  {
   "cell_type": "markdown",
   "metadata": {
    "id": "LsZDnW2OHT-T"
   },
   "source": [
    "Execute the following 2 cells if you are using Google Colab, otherwise just skip. Rename the statement after `cd` with your current directory (e.g. `cd /content/drive/your/current/directory/`). Refer to Assignment1's data loading sceme if you have troubles."
   ]
  },
  {
   "cell_type": "code",
   "execution_count": null,
   "metadata": {
    "id": "u75jPWLbG4m_"
   },
   "outputs": [],
   "source": [
    "# Execute this and below cell if you are using Google Colab, otherwise just skip.\n",
    "from google.colab import drive\n",
    "drive.mount('/content/drive')"
   ]
  },
  {
   "cell_type": "code",
   "execution_count": null,
   "metadata": {
    "id": "30eW3H2yG6Ht"
   },
   "outputs": [],
   "source": [
    "cd /content/drive/MyDrive/"
   ]
  },
  {
   "cell_type": "code",
   "execution_count": 14,
   "metadata": {
    "id": "52NqFHg8ANsB"
   },
   "outputs": [],
   "source": [
    "filename = \"hmm_training.txt\"\n",
    "\n",
    "with open(filename, \"r\") as f:\n",
    "  lines = f.readlines() # each line of lines will have one word\n",
    "\n",
    "alphabet = list(Counter((\"\".join(lines))).keys())\n",
    "train_lines, valid_lines = train_test_split(lines, test_size=0.1, random_state=42)\n",
    "train_dataset = TextDataset(train_lines)\n",
    "valid_dataset = TextDataset(valid_lines)\n",
    "\n",
    "M = len(alphabet)"
   ]
  },
  {
   "cell_type": "markdown",
   "metadata": {
    "id": "H0AqmyrK7IUn"
   },
   "source": [
    "We will use a Trainer class for training and testing the model:\n",
    "\n"
   ]
  },
  {
   "cell_type": "code",
   "execution_count": 15,
   "metadata": {
    "id": "iypy_neX9cpq"
   },
   "outputs": [],
   "source": [
    "from tqdm import tqdm # for displaying progress bar\n",
    "\n",
    "class Trainer:\n",
    "  def __init__(self, model, lr):\n",
    "    self.model = model\n",
    "    self.lr = lr\n",
    "    self.optimizer = torch.optim.Adam(model.parameters(), lr=self.lr, weight_decay=0.00001)\n",
    "  \n",
    "  def train(self, dataset):\n",
    "    train_loss = 0\n",
    "    num_samples = 0\n",
    "    self.model.train()\n",
    "    print_interval = 50\n",
    "    for idx, batch in enumerate(tqdm(dataset.loader)):\n",
    "      x,T = batch\n",
    "      batch_size = len(x)\n",
    "      num_samples += batch_size\n",
    "      log_probs = self.model(x,T)\n",
    "      loss = -log_probs.mean()\n",
    "      self.optimizer.zero_grad()\n",
    "      loss.backward()\n",
    "      self.optimizer.step()\n",
    "      train_loss += loss.cpu().data.numpy().item() * batch_size\n",
    "      if idx % print_interval == 0:\n",
    "        print(\"loss:\", loss.item())\n",
    "        for _ in range(5):\n",
    "          sampled_x, sampled_z = self.model.sample()\n",
    "          print(decode(sampled_x))\n",
    "          print(sampled_z)\n",
    "    train_loss /= num_samples\n",
    "    return train_loss\n",
    "\n",
    "  def test(self, dataset):\n",
    "    test_loss = 0\n",
    "    num_samples = 0\n",
    "    self.model.eval()\n",
    "    print_interval = 50\n",
    "    for idx, batch in enumerate(tqdm(dataset.loader)):\n",
    "      x,T = batch\n",
    "      batch_size = len(x)\n",
    "      num_samples += batch_size\n",
    "      log_probs = self.model(x,T)\n",
    "      loss = -log_probs.mean()\n",
    "      test_loss += loss.cpu().data.numpy().item() * batch_size\n",
    "      if idx % print_interval == 0:\n",
    "        print(\"loss:\", loss.item())\n",
    "        sampled_x, sampled_z = self.model.sample()\n",
    "        print(decode(sampled_x))\n",
    "        print(sampled_z)\n",
    "    test_loss /= num_samples\n",
    "    return test_loss"
   ]
  },
  {
   "cell_type": "markdown",
   "metadata": {
    "id": "mUR8qbHm9dMg"
   },
   "source": [
    "Finally, initialize the model and run the main training loop. Every 50 batches, the code will produce a few samples from the model. Over time, these samples should look more and more realistic."
   ]
  },
  {
   "cell_type": "code",
   "execution_count": 16,
   "metadata": {
    "id": "1-NGIK1Q9g2C"
   },
   "outputs": [
    {
     "name": "stderr",
     "output_type": "stream",
     "text": [
      "\r",
      "  0%|          | 0/208 [00:00<?, ?it/s]"
     ]
    },
    {
     "name": "stdout",
     "output_type": "stream",
     "text": [
      "========= Epoch 1 of 10 =========\n"
     ]
    },
    {
     "name": "stderr",
     "output_type": "stream",
     "text": [
      "\r",
      "  0%|          | 1/208 [00:00<01:43,  2.00it/s]"
     ]
    },
    {
     "name": "stdout",
     "output_type": "stream",
     "text": [
      "('loss:', 42.25505828857422)\n",
      "pvUjoMoQie\n",
      "[20, 39, 3, 63, 55, 23, 45, 13, 3, 12]\n",
      "HMQtUpIZiG\n",
      "[49, 51, 51, 41, 31, 48, 6, 49, 53, 14]\n",
      "qKtgxACZCD\n",
      "[57, 11, 34, 56, 42, 60, 53, 49, 55, 34]\n",
      "\n",
      "wWosShxNs\n",
      "[48, 16, 57, 58, 62, 57, 28, 52, 42, 61]\n",
      "IaVTzhprN\r\n",
      "[21, 16, 21, 55, 56, 41, 43, 26, 16, 37]\n"
     ]
    },
    {
     "name": "stderr",
     "output_type": "stream",
     "text": [
      " 25%|██▌       | 52/208 [00:05<00:17,  9.05it/s]"
     ]
    },
    {
     "name": "stdout",
     "output_type": "stream",
     "text": [
      "('loss:', 36.970252990722656)\n",
      "mdZhttfyVw\n",
      "[6, 52, 36, 24, 48, 27, 5, 54, 22, 39]\n",
      "qtVnUo\r",
      "dMA\n",
      "[37, 1, 42, 10, 40, 22, 43, 59, 11, 62]\n",
      "Hsl\r",
      "lVcGR\r\n",
      "[28, 52, 7, 43, 19, 15, 14, 9, 43, 22]\n",
      "SWeMysRe\r",
      "c\n",
      "[34, 35, 22, 15, 29, 12, 43, 22, 43, 46]\n",
      "tcpoWiQmth\n",
      "[5, 60, 24, 56, 8, 27, 22, 9, 41, 28]\n"
     ]
    },
    {
     "name": "stderr",
     "output_type": "stream",
     "text": [
      " 48%|████▊     | 100/208 [00:11<00:12,  8.86it/s]"
     ]
    },
    {
     "name": "stdout",
     "output_type": "stream",
     "text": [
      "('loss:', 33.77226638793945)\n",
      "iHPLyyLr-T\n",
      "[0, 14, 9, 43, 22, 30, 14, 62, 55, 48]\n",
      "\n",
      "atspoafnz\n",
      "[48, 7, 43, 32, 54, 61, 2, 25, 60, 24]\n",
      "Y\r",
      "tViIavqu\n",
      "[28, 16, 28, 43, 23, 60, 18, 57, 30, 34]\n",
      "McinnKrknK\n",
      "[11, 26, 3, 18, 33, 44, 8, 15, 33, 48]\n",
      "LLdlxcArr\n",
      "\n",
      "[61, 16, 12, 52, 29, 12, 48, 4, 17, 6]\n"
     ]
    },
    {
     "name": "stderr",
     "output_type": "stream",
     "text": [
      " 74%|███████▎  | 153/208 [00:17<00:06,  8.87it/s]"
     ]
    },
    {
     "name": "stdout",
     "output_type": "stream",
     "text": [
      "('loss:', 31.14027976989746)\n",
      "sef\r",
      "\r",
      "dZiaR\n",
      "[0, 14, 62, 61, 43, 40, 36, 40, 54, 55]\n",
      "imtormmt\r",
      "r\n",
      "[61, 33, 55, 36, 59, 55, 7, 18, 56, 52]\n",
      "itmE\r",
      "dQcxo\n",
      "[0, 11, 61, 24, 43, 55, 36, 24, 56, 56]\n",
      "Qhizimas\r",
      "y\n",
      "[51, 29, 18, 40, 18, 15, 32, 28, 43, 22]\n",
      "sUnDYGutu\r\n",
      "[0, 33, 55, 14, 26, 4, 18, 30, 18, 28]\n"
     ]
    },
    {
     "name": "stderr",
     "output_type": "stream",
     "text": [
      " 98%|█████████▊| 203/208 [00:22<00:00,  8.83it/s]"
     ]
    },
    {
     "name": "stdout",
     "output_type": "stream",
     "text": [
      "('loss:', 29.717147827148438)\n",
      "noroauNhel\n",
      "[40, 18, 28, 8, 36, 59, 63, 2, 36, 8]\n",
      "i\r",
      "sgornd-m\n",
      "[18, 33, 28, 50, 36, 59, 16, 12, 18, 40]\n",
      "weeoallw\r",
      "o\n",
      "[51, 56, 18, 56, 18, 40, 48, 22, 43, 22]\n",
      "prtep\r",
      "G\r",
      "nv\n",
      "[42, 23, 3, 14, 9, 43, 28, 43, 22, 43]\n",
      "cetercoite\n",
      "[12, 36, 24, 36, 59, 55, 56, 18, 24, 36]\n"
     ]
    },
    {
     "name": "stderr",
     "output_type": "stream",
     "text": [
      "100%|██████████| 208/208 [00:23<00:00,  8.77it/s]\n",
      " 17%|█▋        | 4/24 [00:00<00:01, 14.89it/s]"
     ]
    },
    {
     "name": "stdout",
     "output_type": "stream",
     "text": [
      "('loss:', 29.322410583496094)\n",
      "chesy\r",
      "ttaa\n",
      "[12, 7, 18, 33, 22, 43, 40, 36, 40, 36]\n"
     ]
    },
    {
     "name": "stderr",
     "output_type": "stream",
     "text": [
      "100%|██████████| 24/24 [00:01<00:00, 18.29it/s]\n",
      "  0%|          | 0/208 [00:00<?, ?it/s]"
     ]
    },
    {
     "name": "stdout",
     "output_type": "stream",
     "text": [
      "========= Results: epoch 1 of 10 =========\n",
      "train loss: 34.22| valid loss: 29.36\n",
      "\n",
      "========= Epoch 2 of 10 =========\n"
     ]
    },
    {
     "name": "stderr",
     "output_type": "stream",
     "text": [
      "\r",
      "  0%|          | 1/208 [00:00<01:38,  2.11it/s]"
     ]
    },
    {
     "name": "stdout",
     "output_type": "stream",
     "text": [
      "('loss:', 29.202930450439453)\n",
      "BrofesKolj\n",
      "[13, 23, 60, 53, 16, 37, 11, 14, 28, 52]\n",
      "qemirte\r",
      "\r",
      "u\n",
      "[12, 36, 40, 18, 33, 55, 18, 33, 36, 59]\n",
      "p\r",
      "iotWor\r",
      "i\n",
      "[12, 56, 18, 33, 40, 34, 36, 59, 55, 18]\n",
      "are\r",
      "Qcae\r",
      "a\n",
      "[32, 28, 22, 43, 41, 12, 36, 22, 43, 40]\n",
      "csbek\r",
      "evvi\n",
      "[37, 53, 58, 14, 28, 43, 14, 59, 55, 18]\n"
     ]
    },
    {
     "name": "stderr",
     "output_type": "stream",
     "text": [
      " 24%|██▎       | 49/208 [00:05<00:18,  8.66it/s]"
     ]
    },
    {
     "name": "stdout",
     "output_type": "stream",
     "text": [
      "('loss:', 28.173818588256836)\n",
      "Zetanire\r",
      "e\n",
      "[34, 36, 55, 36, 40, 18, 40, 22, 43, 22]\n",
      "sartVs\r",
      "ide\n",
      "[40, 36, 59, 55, 18, 28, 43, 48, 38, 16]\n",
      "mumad\r",
      "tint\n",
      "[34, 18, 40, 18, 28, 43, 56, 18, 33, 55]\n",
      "ceteG\r",
      "dimo\n",
      "[37, 36, 40, 14, 28, 43, 28, 43, 40, 18]\n"
     ]
    },
    {
     "name": "stderr",
     "output_type": "stream",
     "text": [
      " 25%|██▌       | 53/208 [00:06<00:18,  8.38it/s]"
     ]
    },
    {
     "name": "stdout",
     "output_type": "stream",
     "text": [
      "pesyae\r",
      "uri\n",
      "[13, 14, 28, 22, 43, 22, 43, 15, 40, 18]\n"
     ]
    },
    {
     "name": "stderr",
     "output_type": "stream",
     "text": [
      " 49%|████▉     | 102/208 [00:11<00:12,  8.77it/s]"
     ]
    },
    {
     "name": "stdout",
     "output_type": "stream",
     "text": [
      "('loss:', 27.642122268676758)\n",
      "Bongrm\r",
      "ypo\n",
      "[37, 36, 59, 55, 56, 10, 34, 60, 12, 36]\n",
      "oSooewophu\n",
      "[37, 8, 36, 40, 18, 34, 44, 24, 7, 18]\n",
      "intitertin\n",
      "[0, 33, 55, 18, 40, 14, 59, 55, 18, 33]\n",
      "itbe\r",
      "e\r",
      "\r",
      "d\r\n",
      "[18, 56, 5, 18, 56, 22, 43, 43, 28, 43]\n",
      "carmoe\r",
      "eai\n",
      "[37, 53, 59, 55, 56, 22, 43, 22, 43, 18]\n"
     ]
    },
    {
     "name": "stderr",
     "output_type": "stream",
     "text": [
      " 73%|███████▎  | 151/208 [00:17<00:06,  8.73it/s]"
     ]
    },
    {
     "name": "stdout",
     "output_type": "stream",
     "text": [
      "('loss:', 27.500844955444336)\n",
      "cruMrttuFe\n",
      "[37, 47, 14, 62, 24, 61, 40, 18, 56, 22]\n",
      "trraalepoe\n",
      "[42, 23, 8, 36, 59, 40, 14, 8, 56, 22]\n",
      "-onestila\r\n",
      "[37, 36, 40, 14, 62, 55, 18, 56, 22, 43]\n",
      "unus\r",
      "ar\r",
      "e\r\n",
      "[0, 16, 18, 28, 43, 18, 28, 43, 22, 43]\n",
      "cogoroilis\n",
      "[37, 53, 51, 36, 40, 36, 18, 56, 18, 33]\n"
     ]
    },
    {
     "name": "stderr",
     "output_type": "stream",
     "text": [
      " 97%|█████████▋| 202/208 [00:23<00:00,  8.74it/s]"
     ]
    },
    {
     "name": "stdout",
     "output_type": "stream",
     "text": [
      "('loss:', 27.116207122802734)\n",
      "ko\r",
      "y\r",
      "aid\r",
      "e\n",
      "[34, 36, 43, 22, 43, 56, 18, 28, 43, 22]\n",
      "Lopopacolc\n",
      "[34, 60, 29, 36, 24, 36, 40, 18, 24, 24]\n",
      "hnmgcengil\n",
      "[0, 33, 40, 36, 24, 18, 33, 55, 18, 56]\n",
      "Bahnoxolid\n",
      "[37, 44, 7, 40, 36, 40, 36, 40, 18, 28]\n",
      "overenm\r",
      "on\n",
      "[53, 11, 14, 52, 18, 33, 55, 43, 56, 22]\n"
     ]
    },
    {
     "name": "stderr",
     "output_type": "stream",
     "text": [
      "100%|██████████| 208/208 [00:23<00:00,  8.71it/s]\n",
      " 17%|█▋        | 4/24 [00:00<00:01, 14.03it/s]"
     ]
    },
    {
     "name": "stdout",
     "output_type": "stream",
     "text": [
      "('loss:', 27.45758819580078)\n",
      "pracoxulko\n",
      "[42, 23, 60, 12, 36, 40, 18, 24, 56, 53]\n"
     ]
    },
    {
     "name": "stderr",
     "output_type": "stream",
     "text": [
      "100%|██████████| 24/24 [00:01<00:00, 19.17it/s]\n",
      "  0%|          | 0/208 [00:00<?, ?it/s]"
     ]
    },
    {
     "name": "stdout",
     "output_type": "stream",
     "text": [
      "========= Results: epoch 2 of 10 =========\n",
      "train loss: 28.07| valid loss: 27.42\n",
      "\n",
      "========= Epoch 3 of 10 =========\n"
     ]
    },
    {
     "name": "stderr",
     "output_type": "stream",
     "text": [
      "\r",
      "  0%|          | 1/208 [00:00<01:30,  2.30it/s]"
     ]
    },
    {
     "name": "stdout",
     "output_type": "stream",
     "text": [
      "('loss:', 26.95758628845215)\n",
      "qrencratiz\n",
      "[30, 52, 36, 33, 12, 52, 36, 40, 18, 33]\n",
      "photreskim\n",
      "[42, 23, 36, 24, 52, 14, 62, 55, 18, 40]\n",
      "ciblinudro\n",
      "[37, 53, 58, 56, 18, 33, 44, 24, 52, 36]\n",
      "r\r",
      "ldy\r",
      "lybe\n",
      "[28, 43, 24, 34, 22, 43, 56, 22, 6, 36]\n",
      "arpa\r",
      "yuuco\n",
      "[36, 59, 12, 36, 43, 22, 44, 59, 12, 36]\n"
     ]
    },
    {
     "name": "stderr",
     "output_type": "stream",
     "text": [
      " 25%|██▍       | 51/208 [00:05<00:18,  8.67it/s]"
     ]
    },
    {
     "name": "stdout",
     "output_type": "stream",
     "text": [
      "('loss:', 27.039443969726562)\n",
      "kapic\r",
      "n\r",
      "\r",
      "y\n",
      "[34, 36, 40, 18, 28, 43, 22, 43, 43, 22]\n",
      "Tens\r",
      "a\r",
      "y\r",
      "u\n",
      "[37, 53, 33, 55, 43, 22, 43, 22, 43, 0]\n",
      "acouonBlir\n",
      "[36, 59, 55, 18, 56, 22, 43, 56, 18, 28]\n",
      "gip\r",
      "m\r",
      "eeio\n",
      "[34, 18, 28, 43, 22, 43, 22, 14, 52, 36]\n",
      "tleoirotrd\n",
      "[42, 23, 18, 56, 18, 40, 36, 30, 8, 40]\n"
     ]
    },
    {
     "name": "stderr",
     "output_type": "stream",
     "text": [
      " 49%|████▊     | 101/208 [00:11<00:12,  8.63it/s]"
     ]
    },
    {
     "name": "stdout",
     "output_type": "stream",
     "text": [
      "('loss:', 26.94224739074707)\n",
      "tuunticpho\n",
      "[37, 53, 0, 33, 55, 18, 33, 55, 7, 36]\n",
      "satlid\r",
      "yak\n",
      "[37, 44, 24, 56, 18, 28, 43, 22, 43, 22]\n",
      "mistari\r",
      "e\r\n",
      "[34, 18, 32, 40, 36, 59, 22, 43, 22, 43]\n",
      "rentacopur\n",
      "[40, 36, 33, 55, 18, 12, 36, 40, 18, 56]\n",
      "srigiEhtiz\n",
      "[32, 40, 18, 40, 18, 12, 7, 55, 18, 56]\n"
     ]
    },
    {
     "name": "stderr",
     "output_type": "stream",
     "text": [
      " 73%|███████▎  | 151/208 [00:17<00:06,  8.74it/s]"
     ]
    },
    {
     "name": "stdout",
     "output_type": "stream",
     "text": [
      "('loss:', 26.806615829467773)\n",
      "frolongria\n",
      "[42, 23, 36, 24, 36, 59, 55, 52, 18, 28]\n",
      "chol\r",
      "ln\r",
      "y\r\n",
      "[37, 7, 36, 59, 43, 56, 22, 43, 22, 43]\n",
      "aggipkiegr\n",
      "[44, 15, 40, 18, 12, 7, 18, 36, 47, 52]\n",
      "mesclerlet\n",
      "[40, 14, 62, 12, 52, 14, 8, 40, 36, 24]\n",
      "colpioe\r",
      "te\n",
      "[37, 53, 59, 12, 18, 56, 22, 43, 56, 22]\n"
     ]
    },
    {
     "name": "stderr",
     "output_type": "stream",
     "text": [
      " 97%|█████████▋| 202/208 [00:23<00:00,  8.75it/s]"
     ]
    },
    {
     "name": "stdout",
     "output_type": "stream",
     "text": [
      "('loss:', 26.97979736328125)\n",
      "couriobann\n",
      "[34, 36, 59, 40, 18, 36, 40, 36, 33, 40]\n",
      "merocbrots\n",
      "[34, 36, 52, 36, 33, 13, 23, 36, 40, 32]\n",
      "pont\r",
      "\r",
      "e\r",
      "e\r\n",
      "[42, 36, 59, 28, 43, 43, 22, 43, 22, 43]\n",
      "pol\r",
      "eud\r",
      "e\r\n",
      "[29, 36, 24, 43, 22, 54, 28, 43, 22, 43]\n",
      "hYla\r",
      "a\r",
      "e\r",
      "y\n",
      "[34, 44, 24, 43, 43, 22, 43, 22, 43, 22]\n"
     ]
    },
    {
     "name": "stderr",
     "output_type": "stream",
     "text": [
      "100%|██████████| 208/208 [00:23<00:00,  8.68it/s]\n",
      " 12%|█▎        | 3/24 [00:00<00:01, 11.68it/s]"
     ]
    },
    {
     "name": "stdout",
     "output_type": "stream",
     "text": [
      "('loss:', 26.661550521850586)\n",
      "hong\r",
      "e\r",
      "y\r",
      "\r\n",
      "[34, 36, 59, 55, 43, 22, 43, 22, 43, 43]\n"
     ]
    },
    {
     "name": "stderr",
     "output_type": "stream",
     "text": [
      "100%|██████████| 24/24 [00:01<00:00, 17.05it/s]\n",
      "  0%|          | 0/208 [00:00<?, ?it/s]"
     ]
    },
    {
     "name": "stdout",
     "output_type": "stream",
     "text": [
      "========= Results: epoch 3 of 10 =========\n",
      "train loss: 27.03| valid loss: 26.75\n",
      "\n",
      "========= Epoch 4 of 10 =========\n"
     ]
    },
    {
     "name": "stderr",
     "output_type": "stream",
     "text": [
      "  1%|▏         | 3/208 [00:00<00:30,  6.68it/s]"
     ]
    },
    {
     "name": "stdout",
     "output_type": "stream",
     "text": [
      "('loss:', 26.809335708618164)\n",
      "at\r",
      "y\r",
      "\r",
      "le\r",
      "e\n",
      "[44, 24, 43, 22, 43, 43, 56, 22, 43, 22]\n",
      "undatiliAc\n",
      "[0, 33, 55, 36, 40, 18, 40, 18, 32, 42]\n",
      "flicumnind\n",
      "[13, 23, 18, 37, 53, 15, 40, 18, 33, 55]\n",
      "mozoutic\r",
      "y\n",
      "[34, 36, 40, 36, 60, 40, 18, 28, 43, 22]\n",
      "Besahanchi\n",
      "[34, 30, 62, 28, 7, 36, 33, 12, 7, 18]\n"
     ]
    },
    {
     "name": "stderr",
     "output_type": "stream",
     "text": [
      " 25%|██▍       | 51/208 [00:05<00:17,  9.00it/s]"
     ]
    },
    {
     "name": "stdout",
     "output_type": "stream",
     "text": [
      "('loss:', 26.35091781616211)\n",
      "necute\r",
      "yin\n",
      "[34, 18, 12, 18, 56, 22, 43, 54, 18, 33]\n",
      "spodonisor\n",
      "[32, 29, 36, 12, 36, 40, 18, 33, 36, 40]\n",
      "trenpicr\r",
      "\r\n",
      "[42, 23, 36, 59, 55, 18, 40, 22, 43, 43]\n",
      "voderintot\n",
      "[34, 36, 40, 14, 8, 18, 33, 55, 36, 40]\n",
      "peenlinil\r\n",
      "[34, 30, 0, 33, 40, 18, 33, 18, 28, 43]\n"
     ]
    },
    {
     "name": "stderr",
     "output_type": "stream",
     "text": [
      " 49%|████▉     | 102/208 [00:11<00:11,  8.90it/s]"
     ]
    },
    {
     "name": "stdout",
     "output_type": "stream",
     "text": [
      "('loss:', 26.399776458740234)\n",
      "polhecasiC\n",
      "[12, 44, 24, 7, 18, 12, 36, 40, 18, 37]\n",
      "chomotiata\n",
      "[12, 7, 36, 40, 36, 12, 18, 36, 40, 36]\n",
      "momhlerpeu\n",
      "[34, 36, 9, 7, 40, 14, 8, 17, 18, 36]\n",
      "palrac\r",
      "bar\n",
      "[42, 44, 24, 23, 36, 59, 43, 58, 44, 8]\n",
      "choletme\r",
      "y\n",
      "[37, 53, 44, 24, 36, 24, 40, 22, 43, 22]\n"
     ]
    },
    {
     "name": "stderr",
     "output_type": "stream",
     "text": [
      " 73%|███████▎  | 151/208 [00:17<00:06,  8.84it/s]"
     ]
    },
    {
     "name": "stdout",
     "output_type": "stream",
     "text": [
      "('loss:', 26.190505981445312)\n",
      "usted\r",
      "e\r",
      "e\r\n",
      "[0, 33, 55, 14, 8, 43, 22, 43, 22, 43]\n",
      "tnsy\r",
      "bued\r\n",
      "[0, 33, 40, 22, 43, 58, 56, 14, 8, 43]\n",
      "mor\r",
      "\r",
      "e\r",
      "y\r",
      "k\n",
      "[6, 36, 59, 43, 43, 22, 43, 22, 43, 56]\n",
      "bhocrapter\n",
      "[42, 23, 36, 42, 23, 0, 33, 55, 14, 8]\n",
      "caareuglov\n",
      "[37, 53, 44, 8, 22, 47, 21, 23, 36, 40]\n"
     ]
    },
    {
     "name": "stderr",
     "output_type": "stream",
     "text": [
      " 96%|█████████▌| 200/208 [00:22<00:00,  8.92it/s]"
     ]
    },
    {
     "name": "stdout",
     "output_type": "stream",
     "text": [
      "('loss:', 26.345136642456055)\n",
      "rionger\r",
      "y\r\n",
      "[34, 18, 36, 59, 55, 14, 8, 43, 22, 43]\n",
      "newegoncin\n",
      "[34, 30, 40, 14, 55, 36, 59, 28, 18, 40]\n",
      "ecaphiocio\n",
      "[32, 12, 36, 9, 7, 18, 36, 12, 3, 36]\n",
      "plictiore\r\n",
      "[13, 23, 0, 33, 55, 18, 36, 40, 22, 43]\n"
     ]
    },
    {
     "name": "stderr",
     "output_type": "stream",
     "text": [
      "\r",
      " 97%|█████████▋| 202/208 [00:22<00:00,  8.82it/s]"
     ]
    },
    {
     "name": "stdout",
     "output_type": "stream",
     "text": [
      "unrisay\r",
      "bl\n",
      "[0, 33, 40, 18, 28, 43, 22, 43, 58, 56]\n"
     ]
    },
    {
     "name": "stderr",
     "output_type": "stream",
     "text": [
      "100%|██████████| 208/208 [00:23<00:00,  8.89it/s]\n",
      " 21%|██        | 5/24 [00:00<00:01, 15.08it/s]"
     ]
    },
    {
     "name": "stdout",
     "output_type": "stream",
     "text": [
      "('loss:', 26.8919734954834)\n",
      "anske\r",
      "\r",
      "e\r",
      "m\n",
      "[0, 33, 55, 56, 22, 43, 43, 22, 43, 22]\n"
     ]
    },
    {
     "name": "stderr",
     "output_type": "stream",
     "text": [
      "100%|██████████| 24/24 [00:01<00:00, 18.58it/s]\n",
      "  0%|          | 0/208 [00:00<?, ?it/s]"
     ]
    },
    {
     "name": "stdout",
     "output_type": "stream",
     "text": [
      "========= Results: epoch 4 of 10 =========\n",
      "train loss: 26.45| valid loss: 26.32\n",
      "\n",
      "========= Epoch 5 of 10 =========\n"
     ]
    },
    {
     "name": "stderr",
     "output_type": "stream",
     "text": [
      "\r",
      "  0%|          | 1/208 [00:00<00:51,  4.00it/s]"
     ]
    },
    {
     "name": "stdout",
     "output_type": "stream",
     "text": [
      "('loss:', 26.039234161376953)\n",
      "iAtdeclebl\n",
      "[30, 0, 33, 55, 14, 33, 23, 30, 58, 56]\n",
      "stauc\r",
      "e\r",
      "ly\n",
      "[32, 40, 36, 59, 28, 43, 22, 43, 56, 22]\n",
      "qnrlenamon\n",
      "[37, 53, 8, 23, 30, 40, 36, 40, 36, 59]\n",
      "felic\r",
      "m\r",
      "br\n",
      "[34, 30, 40, 18, 28, 43, 22, 43, 58, 56]\n",
      "menmotioty\n",
      "[34, 30, 33, 40, 36, 40, 18, 36, 40, 22]\n"
     ]
    },
    {
     "name": "stderr",
     "output_type": "stream",
     "text": [
      " 25%|██▌       | 53/208 [00:06<00:18,  8.59it/s]"
     ]
    },
    {
     "name": "stdout",
     "output_type": "stream",
     "text": [
      "('loss:', 26.491134643554688)\n",
      "znsle\r",
      "roll\n",
      "[0, 33, 55, 56, 22, 43, 40, 44, 24, 23]\n",
      "creneral\r",
      "o\n",
      "[42, 23, 30, 40, 14, 52, 36, 59, 43, 22]\n",
      "Hecorbuli\r\n",
      "[34, 30, 12, 44, 8, 13, 44, 24, 18, 56]\n",
      "detapenome\n",
      "[34, 30, 12, 44, 12, 36, 40, 36, 40, 14]\n",
      "nit\r",
      "e\r",
      "ble\r\n",
      "[34, 18, 28, 43, 22, 43, 58, 56, 22, 43]\n"
     ]
    },
    {
     "name": "stderr",
     "output_type": "stream",
     "text": [
      " 50%|████▉     | 103/208 [00:11<00:12,  8.66it/s]"
     ]
    },
    {
     "name": "stdout",
     "output_type": "stream",
     "text": [
      "('loss:', 26.203638076782227)\n",
      "ar\r",
      "y\r",
      "e\r",
      "e\r",
      "r\n",
      "[36, 59, 43, 22, 43, 22, 43, 22, 43, 26]\n",
      "ampheinQ\r",
      "e\n",
      "[0, 10, 13, 23, 30, 0, 33, 55, 43, 22]\n",
      "creaner\r",
      "yr\n",
      "[42, 23, 30, 32, 16, 14, 8, 40, 60, 52]\n",
      "bremid\r",
      "\r",
      "za\n",
      "[42, 23, 30, 40, 18, 28, 43, 43, 56, 22]\n",
      "Pean\r",
      "y\r",
      "\r",
      "le\n",
      "[34, 30, 36, 59, 43, 22, 43, 43, 56, 14]\n"
     ]
    },
    {
     "name": "stderr",
     "output_type": "stream",
     "text": [
      " 74%|███████▎  | 153/208 [00:17<00:06,  8.65it/s]"
     ]
    },
    {
     "name": "stdout",
     "output_type": "stream",
     "text": [
      "('loss:', 26.572429656982422)\n",
      "ragnere\r",
      "e\r\n",
      "[34, 30, 21, 16, 14, 8, 22, 43, 22, 43]\n",
      "siall\r",
      "m\r",
      "\r",
      "l\n",
      "[34, 18, 44, 24, 24, 43, 22, 43, 43, 56]\n",
      "ataleois\r",
      "e\n",
      "[32, 12, 44, 24, 3, 36, 18, 28, 43, 22]\n",
      "int\r",
      "e\r",
      "blie\n",
      "[0, 33, 55, 43, 22, 43, 58, 56, 18, 14]\n",
      "toacieran\r\n",
      "[34, 53, 44, 12, 3, 36, 52, 36, 59, 43]\n"
     ]
    },
    {
     "name": "stderr",
     "output_type": "stream",
     "text": [
      " 96%|█████████▌| 200/208 [00:22<00:00,  8.78it/s]"
     ]
    },
    {
     "name": "stdout",
     "output_type": "stream",
     "text": [
      "('loss:', 26.21141242980957)\n",
      "memend\r",
      "a\r",
      "b\n",
      "[34, 30, 40, 36, 59, 55, 43, 22, 43, 58]\n",
      "anatrioxmo\n",
      "[0, 33, 44, 12, 52, 18, 36, 59, 40, 36]\n",
      "proir\r",
      "blm\r\n",
      "[42, 23, 53, 44, 8, 43, 58, 56, 22, 43]\n",
      "Heonaard\r",
      "r\n",
      "[34, 30, 36, 40, 18, 36, 59, 28, 43, 22]\n",
      "clontay\r",
      "y\r\n",
      "[42, 23, 36, 59, 55, 43, 22, 43, 22, 43]\n"
     ]
    },
    {
     "name": "stderr",
     "output_type": "stream",
     "text": [
      "100%|██████████| 208/208 [00:23<00:00,  8.73it/s]\n",
      " 12%|█▎        | 3/24 [00:00<00:02,  8.87it/s]"
     ]
    },
    {
     "name": "stdout",
     "output_type": "stream",
     "text": [
      "('loss:', 25.632890701293945)\n",
      "tralis\r",
      "ble\n",
      "[42, 23, 30, 40, 18, 28, 43, 58, 56, 22]\n"
     ]
    },
    {
     "name": "stderr",
     "output_type": "stream",
     "text": [
      "100%|██████████| 24/24 [00:01<00:00, 17.24it/s]\n",
      "  0%|          | 0/208 [00:00<?, ?it/s]"
     ]
    },
    {
     "name": "stdout",
     "output_type": "stream",
     "text": [
      "========= Results: epoch 5 of 10 =========\n",
      "train loss: 26.16| valid loss: 26.11\n",
      "\n",
      "========= Epoch 6 of 10 =========\n",
      "('loss:', 26.158519744873047)\n",
      "bland\n",
      "[42, 23, 36, 59, 28, 43, 58, 56, 22, 43]\n",
      "yeunger\n",
      "[34, 30, 0, 33, 55, 14, 8, 43, 22, 43]\n",
      "dynaua\n",
      "[34, 60, 40, 36, 59, 43, 43, 22, 43, 28]\n",
      "Winthtise\n",
      "[34, 0, 33, 12, 7, 55, 18, 28, 22, 43]\n"
     ]
    },
    {
     "name": "stderr",
     "output_type": "stream",
     "text": [
      "  1%|▏         | 3/208 [00:00<00:22,  9.05it/s]"
     ]
    },
    {
     "name": "stdout",
     "output_type": "stream",
     "text": [
      "okanntorch\n",
      "[36, 40, 36, 59, 28, 7, 36, 59, 12, 23]\n"
     ]
    },
    {
     "name": "stderr",
     "output_type": "stream",
     "text": [
      " 25%|██▌       | 53/208 [00:06<00:17,  8.79it/s]"
     ]
    },
    {
     "name": "stdout",
     "output_type": "stream",
     "text": [
      "('loss:', 26.04583740234375)\n",
      "unpan\r",
      "cria\n",
      "[0, 33, 12, 36, 59, 43, 5, 52, 18, 36]\n",
      "cate\r",
      "bvh\r",
      "b\n",
      "[42, 44, 12, 22, 43, 58, 56, 22, 43, 58]\n",
      "inttite\r",
      "e\r\n",
      "[0, 33, 55, 7, 18, 12, 22, 43, 22, 43]\n",
      "allasuatin\n",
      "[0, 15, 24, 36, 40, 18, 36, 40, 18, 33]\n",
      "wleacshont\n",
      "[42, 23, 30, 32, 37, 41, 7, 36, 59, 55]\n"
     ]
    },
    {
     "name": "stderr",
     "output_type": "stream",
     "text": [
      " 48%|████▊     | 100/208 [00:11<00:11,  9.01it/s]"
     ]
    },
    {
     "name": "stdout",
     "output_type": "stream",
     "text": [
      "('loss:', 26.241573333740234)\n",
      "paapang\r",
      "bl\n",
      "[34, 30, 32, 29, 36, 59, 55, 43, 58, 56]\n",
      "fhappricg\r\n",
      "[42, 23, 0, 10, 13, 23, 0, 33, 55, 43]\n",
      "hupec\r",
      "rtte\n",
      "[34, 53, 29, 18, 28, 43, 59, 55, 56, 22]\n",
      "ssatis\r",
      "e\r",
      "b\n",
      "[32, 12, 36, 12, 18, 28, 43, 22, 43, 58]\n",
      "pors\r",
      "e\r",
      "e\r",
      "b\n",
      "[29, 36, 59, 28, 43, 22, 43, 22, 43, 58]\n"
     ]
    },
    {
     "name": "stderr",
     "output_type": "stream",
     "text": [
      " 73%|███████▎  | 152/208 [00:16<00:06,  8.95it/s]"
     ]
    },
    {
     "name": "stdout",
     "output_type": "stream",
     "text": [
      "('loss:', 26.20491600036621)\n",
      "veoovinhev\n",
      "[34, 30, 30, 30, 40, 18, 28, 7, 18, 40]\n",
      "dilycherit\n",
      "[34, 30, 15, 60, 12, 7, 14, 8, 18, 12]\n",
      "crind\r",
      "-rov\n",
      "[42, 23, 30, 33, 55, 43, 48, 52, 36, 40]\n",
      "caummatios\n",
      "[37, 53, 0, 10, 40, 44, 12, 3, 36, 40]\n",
      "endoneatiy\n",
      "[0, 33, 55, 30, 33, 30, 61, 55, 18, 22]\n"
     ]
    },
    {
     "name": "stderr",
     "output_type": "stream",
     "text": [
      " 97%|█████████▋| 202/208 [00:22<00:00,  8.90it/s]"
     ]
    },
    {
     "name": "stdout",
     "output_type": "stream",
     "text": [
      "('loss:', 25.9266300201416)\n",
      "tallea\r",
      "bze\n",
      "[12, 44, 24, 24, 18, 28, 43, 58, 56, 22]\n",
      "szigretite\n",
      "[32, 34, 30, 21, 23, 30, 40, 18, 12, 14]\n",
      "malou\r",
      "e\r",
      "\r",
      "\r\n",
      "[34, 30, 24, 36, 59, 43, 22, 43, 43, 43]\n",
      "foffalbid\r\n",
      "[37, 53, 1, 1, 44, 24, 40, 18, 28, 43]\n",
      "uchital\r",
      "\r",
      "y\n",
      "[0, 41, 7, 18, 12, 44, 24, 43, 43, 22]\n"
     ]
    },
    {
     "name": "stderr",
     "output_type": "stream",
     "text": [
      "100%|██████████| 208/208 [00:23<00:00,  8.82it/s]\n",
      " 17%|█▋        | 4/24 [00:00<00:01, 14.59it/s]"
     ]
    },
    {
     "name": "stdout",
     "output_type": "stream",
     "text": [
      "('loss:', 25.894872665405273)\n",
      "ol\r",
      "e\r",
      "m\r",
      "lut\n",
      "[36, 24, 43, 22, 43, 22, 43, 24, 44, 12]\n"
     ]
    },
    {
     "name": "stderr",
     "output_type": "stream",
     "text": [
      "100%|██████████| 24/24 [00:01<00:00, 17.44it/s]\n",
      "  0%|          | 0/208 [00:00<?, ?it/s]"
     ]
    },
    {
     "name": "stdout",
     "output_type": "stream",
     "text": [
      "========= Results: epoch 6 of 10 =========\n",
      "train loss: 26.00| valid loss: 25.97\n",
      "\n",
      "========= Epoch 7 of 10 =========\n"
     ]
    },
    {
     "name": "stderr",
     "output_type": "stream",
     "text": [
      "  1%|▏         | 3/208 [00:00<00:31,  6.49it/s]"
     ]
    },
    {
     "name": "stdout",
     "output_type": "stream",
     "text": [
      "('loss:', 25.8768310546875)\n",
      "unm\r",
      "m\r",
      "bze\r\n",
      "[0, 33, 40, 43, 22, 43, 58, 56, 22, 43]\n",
      "tuxpacydro\n",
      "[42, 0, 10, 13, 44, 12, 60, 47, 52, 36]\n",
      "pisty\r",
      "\r",
      "ble\n",
      "[34, 30, 32, 12, 22, 43, 43, 58, 56, 22]\n",
      "gibeopibly\n",
      "[34, 30, 13, 14, 36, 40, 18, 58, 56, 22]\n",
      "Zudalyttt\r\n",
      "[34, 30, 40, 44, 24, 60, 12, 12, 7, 43]\n"
     ]
    },
    {
     "name": "stderr",
     "output_type": "stream",
     "text": [
      " 24%|██▍       | 50/208 [00:05<00:17,  8.82it/s]"
     ]
    },
    {
     "name": "stdout",
     "output_type": "stream",
     "text": [
      "('loss:', 26.215190887451172)\n",
      "getilburmi\n",
      "[34, 30, 12, 18, 24, 39, 53, 8, 40, 18]\n",
      "dormache\r",
      "y\n",
      "[34, 53, 33, 34, 30, 41, 7, 22, 43, 22]\n",
      "bile\r",
      "e\r",
      "e\r",
      "y\n",
      "[39, 18, 56, 22, 43, 22, 43, 22, 43, 22]\n",
      "nenise\r",
      "y\r",
      "\r\n",
      "[34, 30, 40, 18, 28, 22, 43, 22, 43, 43]\n",
      "Ginegroms\r\n",
      "[34, 30, 40, 36, 47, 52, 36, 59, 28, 43]\n"
     ]
    },
    {
     "name": "stderr",
     "output_type": "stream",
     "text": [
      " 49%|████▊     | 101/208 [00:11<00:12,  8.85it/s]"
     ]
    },
    {
     "name": "stdout",
     "output_type": "stream",
     "text": [
      "('loss:', 25.862838745117188)\n",
      "wsanodos\r",
      "y\n",
      "[42, 23, 30, 40, 36, 40, 36, 59, 43, 22]\n",
      "wissellly\r\n",
      "[34, 30, 32, 12, 44, 24, 24, 24, 22, 43]\n",
      "fhenfipidh\n",
      "[42, 23, 30, 40, 20, 30, 40, 18, 28, 7]\n",
      "spragac\r",
      "e\r\n",
      "[32, 42, 23, 30, 40, 18, 28, 43, 22, 43]\n",
      "beunons\r",
      "bl\n",
      "[34, 30, 5, 52, 36, 59, 28, 43, 58, 56]\n"
     ]
    },
    {
     "name": "stderr",
     "output_type": "stream",
     "text": [
      " 73%|███████▎  | 152/208 [00:17<00:06,  8.82it/s]"
     ]
    },
    {
     "name": "stdout",
     "output_type": "stream",
     "text": [
      "('loss:', 25.85213851928711)\n",
      "ulbid\r",
      "e\r",
      "ul\n",
      "[0, 15, 31, 18, 28, 43, 22, 43, 5, 52]\n",
      "noswotoini\n",
      "[37, 60, 32, 19, 36, 40, 36, 18, 40, 18]\n",
      "fhataty\r",
      "e\r\n",
      "[42, 23, 30, 55, 32, 12, 22, 43, 22, 43]\n",
      "culrialace\n",
      "[34, 30, 15, 23, 30, 44, 24, 44, 12, 18]\n",
      "antid\r",
      "e\r",
      "e\r\n",
      "[0, 33, 55, 18, 28, 43, 22, 43, 22, 43]\n"
     ]
    },
    {
     "name": "stderr",
     "output_type": "stream",
     "text": [
      " 97%|█████████▋| 201/208 [00:22<00:00,  8.82it/s]"
     ]
    },
    {
     "name": "stdout",
     "output_type": "stream",
     "text": [
      "('loss:', 25.65975570678711)\n",
      "cuuchisysh\n",
      "[37, 53, 61, 41, 7, 18, 40, 60, 41, 7]\n",
      "ent\r",
      "\r",
      "y\r",
      "\r",
      "e\r\n",
      "[0, 33, 55, 43, 43, 22, 43, 43, 22, 43]\n",
      "derde\r",
      "\r",
      "ble\n",
      "[34, 30, 61, 40, 22, 43, 43, 58, 56, 22]\n",
      "naspery\r",
      "bi\n",
      "[34, 30, 32, 29, 14, 8, 22, 43, 58, 18]\n",
      "irtoredion\n",
      "[0, 33, 55, 36, 40, 18, 40, 18, 36, 40]\n"
     ]
    },
    {
     "name": "stderr",
     "output_type": "stream",
     "text": [
      "100%|██████████| 208/208 [00:23<00:00,  8.91it/s]\n",
      " 12%|█▎        | 3/24 [00:00<00:02,  8.81it/s]"
     ]
    },
    {
     "name": "stdout",
     "output_type": "stream",
     "text": [
      "('loss:', 25.729856491088867)\n",
      "der\r",
      "y\r",
      "a\r",
      "\r",
      "y\n",
      "[34, 30, 8, 43, 22, 43, 22, 43, 43, 22]\n"
     ]
    },
    {
     "name": "stderr",
     "output_type": "stream",
     "text": [
      "100%|██████████| 24/24 [00:01<00:00, 17.19it/s]\n",
      "  0%|          | 0/208 [00:00<?, ?it/s]"
     ]
    },
    {
     "name": "stdout",
     "output_type": "stream",
     "text": [
      "========= Results: epoch 7 of 10 =========\n",
      "train loss: 25.84| valid loss: 25.81\n",
      "\n",
      "========= Epoch 8 of 10 =========\n",
      "('loss:', 25.81476593017578)\n",
      "upantalmen\n",
      "[0, 34, 0, 33, 55, 44, 24, 51, 30, 40]\n",
      "daashrarpo\n",
      "[34, 30, 61, 41, 7, 52, 44, 8, 37, 53]\n"
     ]
    },
    {
     "name": "stderr",
     "output_type": "stream",
     "text": [
      "  1%|▏         | 3/208 [00:00<00:22,  8.97it/s]"
     ]
    },
    {
     "name": "stdout",
     "output_type": "stream",
     "text": [
      "sehimacala\n",
      "[34, 30, 23, 30, 51, 36, 12, 44, 24, 44]\n",
      "enthis\r",
      "e\r",
      "r\n",
      "[0, 33, 41, 7, 18, 28, 43, 22, 43, 8]\n",
      "desouc\r",
      "bly\n",
      "[34, 30, 40, 36, 59, 28, 43, 58, 56, 22]\n"
     ]
    },
    {
     "name": "stderr",
     "output_type": "stream",
     "text": [
      " 25%|██▌       | 53/208 [00:06<00:17,  8.75it/s]"
     ]
    },
    {
     "name": "stdout",
     "output_type": "stream",
     "text": [
      "('loss:', 25.89381217956543)\n",
      "ch\r",
      "e\r",
      "e\r",
      "e\r",
      "\r\n",
      "[41, 7, 43, 22, 43, 22, 43, 22, 43, 43]\n",
      "olcoinautt\n",
      "[53, 15, 37, 53, 0, 33, 30, 61, 41, 7]\n",
      "Buggorabuy\n",
      "[34, 30, 21, 21, 36, 59, 43, 58, 56, 22]\n",
      "sabaral\r",
      "y\r\n",
      "[34, 30, 34, 30, 40, 44, 24, 43, 22, 43]\n",
      "ster\r",
      "\r",
      "e\r",
      "\r",
      "e\n",
      "[41, 7, 14, 8, 43, 43, 22, 43, 43, 22]\n"
     ]
    },
    {
     "name": "stderr",
     "output_type": "stream",
     "text": [
      " 50%|████▉     | 103/208 [00:11<00:12,  8.70it/s]"
     ]
    },
    {
     "name": "stdout",
     "output_type": "stream",
     "text": [
      "('loss:', 25.70831298828125)\n",
      "pracitalat\n",
      "[42, 23, 30, 12, 18, 12, 44, 24, 44, 41]\n",
      "sospold\r",
      "e\r\n",
      "[34, 30, 32, 37, 53, 15, 55, 43, 22, 43]\n",
      "tlithon\r",
      "\r",
      "b\n",
      "[42, 23, 30, 41, 7, 36, 59, 43, 43, 58]\n",
      "mipefyon\r",
      "e\n",
      "[34, 30, 34, 30, 37, 60, 36, 59, 43, 22]\n",
      "comber\r",
      "bso\n",
      "[37, 53, 10, 13, 14, 8, 43, 58, 37, 53]\n"
     ]
    },
    {
     "name": "stderr",
     "output_type": "stream",
     "text": [
      " 73%|███████▎  | 152/208 [00:17<00:06,  8.88it/s]"
     ]
    },
    {
     "name": "stdout",
     "output_type": "stream",
     "text": [
      "('loss:', 26.10871124267578)\n",
      "stalis\r",
      "y\r",
      "y\n",
      "[32, 12, 44, 24, 18, 28, 43, 22, 43, 22]\n",
      "joechine\r",
      "e\n",
      "[37, 53, 61, 41, 7, 18, 40, 44, 43, 22]\n",
      "kuncodm\r",
      "bl\n",
      "[34, 53, 33, 12, 36, 40, 22, 43, 58, 56]\n",
      "Pilbed\r",
      "\r",
      "e\r\n",
      "[34, 30, 15, 39, 14, 8, 43, 43, 22, 43]\n",
      "ovesp\r",
      "ble\r\n",
      "[53, 11, 14, 62, 28, 43, 58, 56, 22, 43]\n"
     ]
    },
    {
     "name": "stderr",
     "output_type": "stream",
     "text": [
      " 98%|█████████▊| 203/208 [00:22<00:00,  8.90it/s]"
     ]
    },
    {
     "name": "stdout",
     "output_type": "stream",
     "text": [
      "('loss:', 25.851627349853516)\n",
      "anahalutla\n",
      "[0, 33, 30, 34, 30, 15, 44, 12, 52, 36]\n",
      "fwilg\r",
      "e\r",
      "\r",
      "b\n",
      "[42, 23, 30, 15, 55, 43, 22, 43, 43, 58]\n",
      "mene\r",
      "e\r",
      "\r",
      "bi\n",
      "[34, 30, 40, 22, 43, 22, 43, 43, 58, 27]\n",
      "molanslesa\n",
      "[34, 30, 40, 36, 59, 28, 16, 14, 62, 28]\n",
      "sefffierba\n",
      "[34, 30, 1, 1, 1, 18, 14, 52, 39, 53]\n"
     ]
    },
    {
     "name": "stderr",
     "output_type": "stream",
     "text": [
      "100%|██████████| 208/208 [00:23<00:00,  8.87it/s]\n",
      " 17%|█▋        | 4/24 [00:00<00:01, 14.78it/s]"
     ]
    },
    {
     "name": "stdout",
     "output_type": "stream",
     "text": [
      "('loss:', 25.668014526367188)\n",
      "alaropiceo\n",
      "[30, 24, 44, 52, 36, 29, 18, 12, 3, 36]\n"
     ]
    },
    {
     "name": "stderr",
     "output_type": "stream",
     "text": [
      "100%|██████████| 24/24 [00:01<00:00, 19.02it/s]\n",
      "  0%|          | 0/208 [00:00<?, ?it/s]"
     ]
    },
    {
     "name": "stdout",
     "output_type": "stream",
     "text": [
      "========= Results: epoch 8 of 10 =========\n",
      "train loss: 25.72| valid loss: 25.68\n",
      "\n",
      "========= Epoch 9 of 10 =========\n"
     ]
    },
    {
     "name": "stderr",
     "output_type": "stream",
     "text": [
      "\r",
      "  0%|          | 1/208 [00:00<01:28,  2.34it/s]"
     ]
    },
    {
     "name": "stdout",
     "output_type": "stream",
     "text": [
      "('loss:', 25.71061134338379)\n",
      "depive\r",
      "y\r",
      "\r\n",
      "[34, 30, 17, 18, 56, 22, 43, 22, 43, 43]\n",
      "vyces\r",
      "e\r",
      "yn\n",
      "[34, 30, 12, 18, 28, 43, 22, 43, 22, 16]\n",
      "fucliner\r",
      "\r\n",
      "[20, 38, 24, 56, 18, 40, 14, 8, 43, 43]\n",
      "ilpeboever\n",
      "[53, 15, 34, 30, 13, 23, 30, 40, 14, 8]\n",
      "untimege\r",
      "y\n",
      "[0, 33, 12, 18, 40, 18, 12, 22, 43, 22]\n"
     ]
    },
    {
     "name": "stderr",
     "output_type": "stream",
     "text": [
      " 25%|██▍       | 51/208 [00:06<00:18,  8.33it/s]"
     ]
    },
    {
     "name": "stdout",
     "output_type": "stream",
     "text": [
      "('loss:', 25.447160720825195)\n",
      "egaloy\r",
      "e\r",
      "y\n",
      "[30, 21, 44, 24, 56, 22, 43, 22, 43, 22]\n",
      "shicodesa\r\n",
      "[32, 7, 18, 33, 30, 34, 30, 62, 28, 43]\n",
      "ulopsitadb\n",
      "[0, 25, 36, 9, 35, 18, 12, 44, 8, 13]\n",
      "ixplinty\r",
      "b\n",
      "[0, 17, 29, 23, 30, 37, 7, 22, 43, 58]\n",
      "aminguotig\n",
      "[53, 10, 18, 33, 45, 4, 44, 12, 18, 47]\n"
     ]
    },
    {
     "name": "stderr",
     "output_type": "stream",
     "text": [
      " 49%|████▊     | 101/208 [00:11<00:12,  8.64it/s]"
     ]
    },
    {
     "name": "stdout",
     "output_type": "stream",
     "text": [
      "('loss:', 25.964637756347656)\n",
      "coagau\r",
      "iul\n",
      "[37, 53, 61, 25, 36, 59, 43, 0, 5, 52]\n",
      "conc\r",
      "e\r",
      "e\r",
      "y\n",
      "[34, 30, 33, 40, 43, 22, 43, 22, 43, 22]\n",
      "engcuvener\n",
      "[0, 33, 55, 37, 53, 11, 14, 16, 14, 8]\n",
      "unt\r",
      "y\r",
      "y\r",
      "\r",
      "e\n",
      "[0, 33, 55, 43, 22, 43, 22, 43, 43, 22]\n",
      "malon\r",
      "\r",
      "ble\n",
      "[34, 30, 15, 36, 59, 43, 43, 58, 56, 22]\n"
     ]
    },
    {
     "name": "stderr",
     "output_type": "stream",
     "text": [
      " 74%|███████▎  | 153/208 [00:17<00:06,  8.74it/s]"
     ]
    },
    {
     "name": "stdout",
     "output_type": "stream",
     "text": [
      "('loss:', 25.333778381347656)\n",
      "\n",
      "eubite\r",
      "e\r\n",
      "[37, 53, 61, 31, 18, 12, 22, 43, 22, 43]\n",
      "gimolophek\n",
      "[34, 30, 51, 36, 52, 36, 9, 7, 14, 55]\n",
      "fanvelifin\n",
      "[37, 53, 33, 11, 14, 24, 18, 1, 18, 33]\n",
      "unker\r",
      "\r",
      "\r",
      "bi\n",
      "[0, 33, 11, 14, 8, 43, 43, 43, 58, 18]\n",
      "stlanine\r",
      "m\n",
      "[32, 12, 23, 30, 40, 18, 40, 22, 43, 22]\n"
     ]
    },
    {
     "name": "stderr",
     "output_type": "stream",
     "text": [
      " 96%|█████████▌| 200/208 [00:22<00:00,  8.85it/s]"
     ]
    },
    {
     "name": "stdout",
     "output_type": "stream",
     "text": [
      "('loss:', 25.572185516357422)\n",
      "hior\r",
      "e\r",
      "e\r",
      "y\n",
      "[34, 30, 44, 8, 43, 22, 43, 22, 43, 22]\n",
      "imved\r",
      "y\r",
      "bl\n",
      "[0, 10, 40, 14, 8, 43, 22, 43, 58, 56]\n",
      "rlermal\r",
      "\r",
      "e\n",
      "[42, 23, 30, 61, 51, 44, 24, 43, 43, 22]\n",
      "pecistmina\n",
      "[34, 30, 41, 30, 41, 7, 51, 18, 40, 44]\n",
      "euolanted\r\n",
      "[45, 4, 30, 15, 44, 33, 55, 14, 8, 43]\n"
     ]
    },
    {
     "name": "stderr",
     "output_type": "stream",
     "text": [
      "100%|██████████| 208/208 [00:23<00:00,  8.85it/s]\n",
      " 12%|█▎        | 3/24 [00:00<00:02,  8.73it/s]"
     ]
    },
    {
     "name": "stdout",
     "output_type": "stream",
     "text": [
      "('loss:', 25.473012924194336)\n",
      "foss\r",
      "bly\r",
      "e\n",
      "[42, 14, 62, 28, 43, 58, 56, 22, 43, 22]\n"
     ]
    },
    {
     "name": "stderr",
     "output_type": "stream",
     "text": [
      "100%|██████████| 24/24 [00:01<00:00, 17.16it/s]\n",
      "  0%|          | 0/208 [00:00<?, ?it/s]"
     ]
    },
    {
     "name": "stdout",
     "output_type": "stream",
     "text": [
      "========= Results: epoch 9 of 10 =========\n",
      "train loss: 25.60| valid loss: 25.59\n",
      "\n",
      "========= Epoch 10 of 10 =========\n",
      "('loss:', 25.783714294433594)\n",
      "Crooprocto\n",
      "[42, 23, 30, 36, 29, 23, 30, 41, 7, 36]\n",
      "eoratess\n",
      "[37, 53, 52, 44, 12, 14, 62, 28, 43, 22]\n"
     ]
    },
    {
     "name": "stderr",
     "output_type": "stream",
     "text": [
      "  1%|▏         | 3/208 [00:00<00:23,  8.70it/s]"
     ]
    },
    {
     "name": "stdout",
     "output_type": "stream",
     "text": [
      "cokseon\r",
      "bl\n",
      "[37, 53, 11, 35, 3, 36, 59, 43, 58, 56]\n",
      "grey\r",
      "t\r",
      "y\r",
      "\r\n",
      "[42, 23, 30, 22, 43, 55, 43, 22, 43, 43]\n",
      "norechle\r",
      "e\n",
      "[37, 53, 23, 30, 41, 7, 52, 22, 43, 22]\n"
     ]
    },
    {
     "name": "stderr",
     "output_type": "stream",
     "text": [
      " 24%|██▍       | 50/208 [00:05<00:17,  9.18it/s]"
     ]
    },
    {
     "name": "stdout",
     "output_type": "stream",
     "text": [
      "('loss:', 25.578950881958008)\n",
      "cerinowabv\n",
      "[37, 53, 52, 18, 40, 36, 49, 44, 58, 56]\n",
      "goxger\r",
      "m\r",
      "e\n",
      "[42, 53, 33, 55, 14, 8, 43, 22, 43, 22]\n",
      "raxuburoph\n",
      "[34, 30, 17, 30, 13, 38, 52, 36, 9, 46]\n",
      "preelons\r",
      "b\n",
      "[42, 23, 30, 14, 25, 36, 59, 28, 43, 58]\n",
      "unctablm\r",
      "b\n",
      "[0, 33, 41, 55, 44, 58, 56, 22, 43, 58]\n"
     ]
    },
    {
     "name": "stderr",
     "output_type": "stream",
     "text": [
      " 49%|████▉     | 102/208 [00:11<00:11,  9.09it/s]"
     ]
    },
    {
     "name": "stdout",
     "output_type": "stream",
     "text": [
      "('loss:', 25.62447738647461)\n",
      "acorobrect\n",
      "[0, 41, 36, 52, 36, 13, 23, 30, 41, 12]\n",
      "soogirshwa\n",
      "[37, 53, 61, 55, 18, 33, 41, 7, 19, 18]\n",
      "dianelomis\n",
      "[34, 30, 0, 33, 30, 15, 30, 51, 18, 28]\n",
      "toetip\r",
      "e\r",
      "e\n",
      "[37, 53, 61, 48, 18, 28, 43, 22, 43, 22]\n",
      "Drafrepsar\n",
      "[42, 23, 30, 42, 23, 30, 9, 35, 36, 40]\n"
     ]
    },
    {
     "name": "stderr",
     "output_type": "stream",
     "text": [
      " 74%|███████▎  | 153/208 [00:17<00:06,  9.00it/s]"
     ]
    },
    {
     "name": "stdout",
     "output_type": "stream",
     "text": [
      "('loss:', 25.779949188232422)\n",
      "vannocner\r\n",
      "[34, 30, 33, 40, 18, 28, 16, 14, 8, 43]\n",
      "rort\r",
      "e\r",
      "bly\n",
      "[34, 30, 61, 55, 43, 22, 43, 58, 56, 22]\n",
      "sesnuudaty\n",
      "[34, 30, 32, 37, 53, 61, 55, 44, 12, 22]\n",
      "shel\r",
      "ble\r",
      "e\n",
      "[32, 7, 44, 24, 43, 58, 56, 22, 43, 22]\n",
      "Iasquatyle\n",
      "[34, 30, 32, 45, 4, 44, 12, 22, 16, 14]\n"
     ]
    },
    {
     "name": "stderr",
     "output_type": "stream",
     "text": [
      " 97%|█████████▋| 201/208 [00:22<00:00,  8.92it/s]"
     ]
    },
    {
     "name": "stdout",
     "output_type": "stream",
     "text": [
      "('loss:', 25.773479461669922)\n",
      "biworolaft\n",
      "[34, 30, 19, 53, 23, 30, 15, 30, 1, 55]\n",
      "croscarori\n",
      "[42, 23, 30, 32, 37, 53, 33, 30, 23, 30]\n",
      "ctecyge\r",
      "el\n",
      "[41, 7, 36, 41, 60, 47, 22, 43, 22, 16]\n",
      "loSocaphal\n",
      "[34, 30, 34, 30, 37, 53, 9, 7, 44, 24]\n",
      "syliscurag\n",
      "[46, 60, 15, 30, 32, 42, 53, 52, 36, 47]\n"
     ]
    },
    {
     "name": "stderr",
     "output_type": "stream",
     "text": [
      "100%|██████████| 208/208 [00:23<00:00,  9.00it/s]\n",
      " 17%|█▋        | 4/24 [00:00<00:01, 11.82it/s]"
     ]
    },
    {
     "name": "stdout",
     "output_type": "stream",
     "text": [
      "('loss:', 25.778881072998047)\n",
      "diosophisg\n",
      "[34, 30, 36, 40, 36, 9, 7, 18, 28, 55]\n"
     ]
    },
    {
     "name": "stderr",
     "output_type": "stream",
     "text": [
      "100%|██████████| 24/24 [00:01<00:00, 17.24it/s]"
     ]
    },
    {
     "name": "stdout",
     "output_type": "stream",
     "text": [
      "========= Results: epoch 10 of 10 =========\n",
      "train loss: 25.53| valid loss: 25.52\n",
      "\n"
     ]
    },
    {
     "name": "stderr",
     "output_type": "stream",
     "text": [
      "\n"
     ]
    }
   ],
   "source": [
    "# Initialize model\n",
    "model = HMM(N=64, M=M)\n",
    "\n",
    "# Train the model\n",
    "num_epochs = 10\n",
    "trainer = Trainer(model, lr=0.01)\n",
    "\n",
    "for epoch in range(num_epochs):\n",
    "    print(\"========= Epoch %d of %d =========\" % (epoch+1, num_epochs))\n",
    "    train_loss = trainer.train(train_dataset)\n",
    "    valid_loss = trainer.test(valid_dataset)\n",
    "\n",
    "    print(\"========= Results: epoch %d of %d =========\" % (epoch+1, num_epochs))\n",
    "    print(\"train loss: %.2f| valid loss: %.2f\\n\" % (train_loss, valid_loss))\n",
    "\n",
    "torch.save(model.state_dict(), 'HMM.pth')"
   ]
  },
  {
   "cell_type": "markdown",
   "metadata": {
    "id": "zymBj9QrDHRM"
   },
   "source": [
    "**TODO 5**: Try to decode some different sequences (e.g. proper words, misspelled words) with the Viterbi algorithm and give an explanation about the results."
   ]
  },
  {
   "cell_type": "code",
   "execution_count": 17,
   "metadata": {
    "id": "auBibYUTtIom"
   },
   "outputs": [
    {
     "name": "stdout",
     "output_type": "stream",
     "text": [
      "([[37, 53, 41], [34, 30, 21], [42, 46, 60], [42, 53, 61]], tensor([[ -8.2318],\n",
      "        [ -8.6008],\n",
      "        [-23.7134],\n",
      "        [-20.9540]], device='cuda:0', grad_fn=<GatherBackward>))\n",
      "([[0, 34, 30, 53, 61, 55], [53, 15, 37, 53, 61, 39], [34, 30, 41, 7, 36, 52], [42, 26, 39, 14, 8, 56], [34, 30, 1, 53, 11, 14], [42, 53, 61, 26, 1, 55]], tensor([[-21.6625],\n",
      "        [-21.0143],\n",
      "        [-14.5568],\n",
      "        [-35.9927],\n",
      "        [-32.1784],\n",
      "        [-38.0792]], device='cuda:0', grad_fn=<GatherBackward>))\n",
      "([[42, 23, 30, 25, 36, 35, 36, 9, 46, 60], [53, 15, 13, 23, 30, 11, 18, 44, 12, 22], [0, 15, 41, 7, 14, 8, 42, 23, 30, 34], [42, 23, 30, 34, 30, 30, 61, 48, 7, 55]], tensor([[-24.4877],\n",
      "        [-28.7209],\n",
      "        [-68.5970],\n",
      "        [-67.2591]], device='cuda:0', grad_fn=<GatherBackward>))\n"
     ]
    }
   ],
   "source": [
    "##############################################################################\n",
    "#                          IMPLEMENT YOUR CODE                               #\n",
    "##############################################################################\n",
    "x = torch.stack([torch.tensor(encode(\"cat\")), torch.tensor(encode(\"dog\")),\n",
    "                torch.tensor(encode(\"PKL\")), torch.tensor(encode(\"GZd\"))])\n",
    "T = torch.tensor([3, 3, 3, 3])\n",
    "print(model.viterbi(x,T))\n",
    "\n",
    "x = torch.stack([torch.tensor(encode(\"aboard\")), torch.tensor(encode(\"absorb\")), torch.tensor(encode(\"doctor\")), \n",
    "                torch.tensor(encode(\"Pdbeql\")), torch.tensor(encode(\"dafVqe\")), torch.tensor(encode(\"bKFdfg\"))])\n",
    "T = torch.tensor([6, 6, 6, 6, 6, 6])\n",
    "print(model.viterbi(x,T))\n",
    "\n",
    "x = torch.stack([torch.tensor(encode(\"philosophy\")), torch.tensor(encode(\"abbreviate\")), \n",
    "                 torch.tensor(encode(\"AbcDeFGhIJ\")), torch.tensor(encode(\"FKDjieoqkd\"))])\n",
    "T = torch.tensor([10, 10, 10, 10])\n",
    "print(model.viterbi(x,T))\n",
    "\n",
    "##############################################################################\n",
    "#                          END OF YOUR CODE                                  #\n",
    "##############################################################################"
   ]
  },
  {
   "cell_type": "markdown",
   "metadata": {
    "id": "XGkke5yMKMYe"
   },
   "source": [
    "**Explanation for TODO 5:** <br>\n",
    "write your answer here."
   ]
  },
  {
   "cell_type": "markdown",
   "metadata": {},
   "source": [
    "I did simple experiment regarding the constructed HMM model.\n",
    "\n",
    "First I increased the <b>length of the words</b> from length of 4 to length of 10.\n",
    "And in each groups, half of the words are <b>wrong-spelled and the other half are properly spelled</b>. As we can see in the result above, we can check out two following propensity.<br>\n",
    "First, the mis-spelled word has low log probability(low viterbi score rather than proper-spelled word.\n",
    "Second, as the word's length gets longer, overall avarage log probability gets lower. I think that this propensity can be explained as a persepective of \"entropy\".\n",
    "It is natural that if there are more particles, there are more entropy, which makes harder to sample \"ordered\" sequence of letters."
   ]
  }
 ],
 "metadata": {
  "accelerator": "GPU",
  "colab": {
   "collapsed_sections": [],
   "name": "AS4_Part1_HMM.ipynb",
   "provenance": []
  },
  "kernelspec": {
   "display_name": "Python 3",
   "language": "python",
   "name": "python3"
  },
  "language_info": {
   "codemirror_mode": {
    "name": "ipython",
    "version": 2
   },
   "file_extension": ".py",
   "mimetype": "text/x-python",
   "name": "python",
   "nbconvert_exporter": "python",
   "pygments_lexer": "ipython2",
   "version": "2.7.12"
  }
 },
 "nbformat": 4,
 "nbformat_minor": 1
}
